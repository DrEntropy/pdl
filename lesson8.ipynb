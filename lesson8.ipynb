{
 "cells": [
  {
   "cell_type": "markdown",
   "metadata": {},
   "source": [
    "## Lesson 8 : Convolution networks\n",
    "\n",
    "### But FIRST - finish up Collaborative filtering!\n",
    "\n",
    "I included notes on the rest of Chapter 8  in the previous lesson because I had no idea he was going to continue on in this lesson. \n",
    "\n",
    "For reference he goes over:\n",
    "\n",
    "* Creating your own embedding layer\n",
    "\n",
    "* Intepreting embeddings and biases \n",
    "\n",
    "* Using fastai's `collab_learner` implementation\n",
    "\n",
    "* Embedding distances \n",
    "\n",
    "* Deep learning for collab filtering\n",
    "\n",
    "\n",
    "### Embeddings for NLP (30:30)\n",
    "\n",
    "* Discussion of how embeddings are used words, which are just a large categorical variable (the vocab)\n",
    "\n",
    "* The neural net only sees the embeddings, which it learns.\n",
    "\n",
    "\n",
    "### Embeddings for Tabular\n",
    "\n",
    "* As mentioned (i think?) before we can also turn any categorical into an embedding, for example those that often appear in tabular data. \n",
    "\n",
    "* This is done in chapter 9 in the book.\n",
    "\n",
    "* Guo, Cheng, and Felix Berkhahn. 2016. “Entity Embeddings of Categorical Variables.” arXiv. https://doi.org/10.48550/arXiv.1604.06737.\n",
    "\n",
    "* Guo et. al. also combined deep learning embeddings with boosted trees (i.e. also feeding the embeddings into decision tree)\n"
   ]
  },
  {
   "cell_type": "markdown",
   "metadata": {},
   "source": [
    "### CNNS\n",
    "\n",
    "Video at 44:30\n",
    "\n",
    "* Based partly on Chapter 13 in the book.\n",
    "\n",
    "\n",
    "#### Convolutions and pooling\n",
    "* First he presents convolutions in excel.  Mentions that MaxPooling is not as common and modern visual learners use stride > 1 (typically 2?) and average pooling at the end. \n",
    "\n",
    "* Fastai uses \"Concat pooling\" and concatenates the average and max pooling layers at the end.\n",
    "\n",
    "* Points out that a convolution layer is really just a matrix multiplication: \n",
    "   * Flatten the input into a vector\n",
    "   * Now the convolution can be written as a matrix multiplying the vector, except that the is constrained: Many of the weights are zero, and the rest are shared.\n",
    "   * This is shown in Chapter 13 of the book.\n",
    "\n",
    "\n",
    "####  Dropout layers\n",
    "\n",
    "* Shows how dropout works in excel, corrupting the activations randomly for each batch. \n",
    "\n",
    "* This is a regularization technique that helps prevent overfitting.\n",
    "\n",
    "* The idea is that a human can look at the corrupted image and still see what it was, and a neural net should be able to as well. This forces the model to the learn the representation and not just memorize the data (overfitting).\n",
    "\n",
    "\n",
    "#### Activation functions\n",
    "\n",
    "* Pretty much any nonlinearity can be used as an activation function.\n",
    "\n",
    "* ReLU is the most common these days as it is fast, but others are commonly used as well.. tanh, sigmoid, etc.\n",
    "\n",
    "\n",
    "\n",
    "## WHAT NOW? \n",
    "\n",
    "*  Write - Code, papers, blog posts, etc.\n",
    "\n",
    "* Help - Forums, StackOverflow, etc.\n",
    "\n",
    "* Gather - Book clubs, meetups, study groups\n",
    "\n",
    "* Build - Apps, Work Projects, Libraries\n",
    "\n",
    "* Go on to part too!"
   ]
  },
  {
   "cell_type": "markdown",
   "metadata": {},
   "source": [
    "### Chapter 13\n",
    "\n",
    "* The book and the lecutre overlap quite a bit in concept.\n",
    "\n",
    "* The book however also gives some pytorch examples of setting up a CNN for MNIST\n",
    "\n",
    "* Although I have done this before, I think I will reproduce it here:"
   ]
  },
  {
   "cell_type": "code",
   "execution_count": 3,
   "metadata": {},
   "outputs": [],
   "source": [
    "import torch \n",
    "import torch.nn as nn\n",
    "import torch.functional as F\n",
    "\n",
    "\n"
   ]
  },
  {
   "cell_type": "code",
   "execution_count": 15,
   "metadata": {},
   "outputs": [],
   "source": [
    "# import MNIST dataset\n",
    "from torchvision import datasets, transforms\n",
    "from torch.utils.data import DataLoader\n",
    "\n",
    "data_path = './data'\n",
    "mnist = datasets.MNIST(data_path, train=True, download=True, transform=transforms.ToTensor())"
   ]
  },
  {
   "cell_type": "code",
   "execution_count": 24,
   "metadata": {},
   "outputs": [
    {
     "name": "stdout",
     "output_type": "stream",
     "text": [
      "first image is a 1\n"
     ]
    },
    {
     "data": {
      "text/plain": [
       "<matplotlib.image.AxesImage at 0x3556da850>"
      ]
     },
     "execution_count": 24,
     "metadata": {},
     "output_type": "execute_result"
    },
    {
     "data": {
      "image/png": "[encoded data removed]",
      "text/plain": [
       "<Figure size 640x480 with 1 Axes>"
      ]
     },
     "metadata": {},
     "output_type": "display_data"
    }
   ],
   "source": [
    "# load data\n",
    "data_loader = DataLoader(mnist, batch_size=32, shuffle=True)\n",
    "\n",
    "# pull in a sample image\n",
    "data_iter = iter(data_loader)\n",
    "images, labels = next(data_iter)\n",
    "print(f\"first image is a {labels[0]}\")\n",
    "# plot the fist image\n",
    "import matplotlib.pyplot as plt\n",
    "plt.imshow(images[0].numpy().squeeze(), cmap='gray')"
   ]
  },
  {
   "cell_type": "markdown",
   "metadata": {},
   "source": [
    "Ok lets build a simple model to classify MNIST digits using a CNN."
   ]
  },
  {
   "cell_type": "code",
   "execution_count": 38,
   "metadata": {},
   "outputs": [],
   "source": [
    "# Simple CNN using stride of 2 to downsample until we reach 1x1\n",
    "\n",
    "class SimpleCNN(nn.Module):\n",
    "    def __init__(self):\n",
    "        super(SimpleCNN, self).__init__()\n",
    "        self.conv1 = nn.Conv2d(1, 32, kernel_size=3, stride=2, padding=1)\n",
    "        self.conv2 = nn.Conv2d(32, 64, kernel_size=3, stride=2, padding=1)\n",
    "        self.conv3 = nn.Conv2d(64, 128, kernel_size=3, stride=2, padding=1)\n",
    "        self.conv4 = nn.Conv2d(128, 128, kernel_size=3, stride=2, padding=1)\n",
    "        self.conv5 = nn.Conv2d(128, 128, kernel_size=3, stride=2, padding=1)\n",
    "        self.fc = nn.Linear(128, 10)\n",
    "    \n",
    "    def forward(self, x):\n",
    "        x = torch.relu(self.conv1(x))\n",
    "        x = torch.relu(self.conv2(x))\n",
    "        x = torch.relu(self.conv3(x))\n",
    "        x = torch.relu(self.conv4(x))\n",
    "        x = torch.relu(self.conv5(x))\n",
    "        #print(x.shape)\n",
    "        x = x.view(-1, 128)\n",
    "        \n",
    "        x = self.fc(x)\n",
    "        return x"
   ]
  },
  {
   "cell_type": "code",
   "execution_count": 40,
   "metadata": {},
   "outputs": [
    {
     "name": "stdout",
     "output_type": "stream",
     "text": [
      "epoch 0, step 0, loss 2.2970962524414062\n",
      "epoch 0, step 100, loss 0.529944658279419\n",
      "epoch 0, step 200, loss 0.21718564629554749\n",
      "epoch 0, step 300, loss 0.2556946575641632\n",
      "epoch 0, step 400, loss 0.21101044118404388\n",
      "epoch 0, step 500, loss 0.12730374932289124\n",
      "epoch 0, step 600, loss 0.14507035911083221\n",
      "epoch 0, step 700, loss 0.22321510314941406\n",
      "epoch 0, step 800, loss 0.03843311965465546\n",
      "epoch 0, step 900, loss 0.2069709599018097\n",
      "epoch 0, step 1000, loss 0.16211853921413422\n",
      "epoch 0, step 1100, loss 0.027688318863511086\n",
      "epoch 0, step 1200, loss 0.015369717963039875\n",
      "epoch 0, step 1300, loss 0.03924035653471947\n",
      "epoch 0, step 1400, loss 0.2293858379125595\n",
      "epoch 0, step 1500, loss 0.07648778706789017\n",
      "epoch 0, step 1600, loss 0.04399525746703148\n",
      "epoch 0, step 1700, loss 0.007497603073716164\n",
      "epoch 0, step 1800, loss 0.006861202884465456\n",
      "epoch 1, step 0, loss 0.02264256961643696\n",
      "epoch 1, step 100, loss 0.04764539375901222\n",
      "epoch 1, step 200, loss 0.01589866355061531\n",
      "epoch 1, step 300, loss 0.07090359926223755\n",
      "epoch 1, step 400, loss 0.024592598900198936\n",
      "epoch 1, step 500, loss 0.11376626789569855\n",
      "epoch 1, step 600, loss 0.002082922263070941\n",
      "epoch 1, step 700, loss 0.04276108741760254\n",
      "epoch 1, step 800, loss 0.18935012817382812\n",
      "epoch 1, step 900, loss 0.08605829626321793\n",
      "epoch 1, step 1000, loss 0.052331969141960144\n",
      "epoch 1, step 1100, loss 0.020062511786818504\n",
      "epoch 1, step 1200, loss 0.07940813153982162\n",
      "epoch 1, step 1300, loss 0.013754516839981079\n",
      "epoch 1, step 1400, loss 0.03181834518909454\n",
      "epoch 1, step 1500, loss 0.04282267391681671\n",
      "epoch 1, step 1600, loss 0.14277426898479462\n",
      "epoch 1, step 1700, loss 0.38947179913520813\n",
      "epoch 1, step 1800, loss 0.025226246565580368\n",
      "epoch 2, step 0, loss 0.0101753706112504\n",
      "epoch 2, step 100, loss 0.07488954812288284\n",
      "epoch 2, step 200, loss 0.004859317094087601\n",
      "epoch 2, step 300, loss 0.008353865705430508\n",
      "epoch 2, step 400, loss 0.027062145993113518\n",
      "epoch 2, step 500, loss 0.004113832488656044\n",
      "epoch 2, step 600, loss 0.14071527123451233\n",
      "epoch 2, step 700, loss 0.01928788423538208\n",
      "epoch 2, step 800, loss 0.0149112893268466\n",
      "epoch 2, step 900, loss 0.01636776700615883\n",
      "epoch 2, step 1000, loss 0.0005661343457177281\n",
      "epoch 2, step 1100, loss 0.0032032772433012724\n",
      "epoch 2, step 1200, loss 0.008379029110074043\n",
      "epoch 2, step 1300, loss 0.024283820763230324\n",
      "epoch 2, step 1400, loss 0.000345139967976138\n",
      "epoch 2, step 1500, loss 0.00466805137693882\n",
      "epoch 2, step 1600, loss 0.09463124722242355\n",
      "epoch 2, step 1700, loss 0.0024557113647460938\n",
      "epoch 2, step 1800, loss 0.07104561477899551\n"
     ]
    }
   ],
   "source": [
    "# simple training loop\n",
    "model = SimpleCNN()\n",
    "criterion = nn.CrossEntropyLoss()\n",
    "optimizer = torch.optim.Adam(model.parameters(), lr=0.001)\n",
    "\n",
    "for epoch in range(3):\n",
    "    for i, (images, labels) in enumerate(data_loader):\n",
    "        optimizer.zero_grad()\n",
    "        outputs = model(images)\n",
    "        loss = criterion(outputs, labels)\n",
    "        loss.backward()\n",
    "        optimizer.step()\n",
    "        if i % 100 == 0:\n",
    "            print(f\"epoch {epoch}, step {i}, loss {loss.item()}\")"
   ]
  },
  {
   "cell_type": "code",
   "execution_count": 42,
   "metadata": {},
   "outputs": [],
   "source": [
    "# load test data\n",
    "mnist_test = datasets.MNIST(data_path, train=False, download=True, transform=transforms.ToTensor())"
   ]
  },
  {
   "cell_type": "code",
   "execution_count": 49,
   "metadata": {},
   "outputs": [],
   "source": [
    "test_loader = DataLoader(mnist_test, batch_size=32)\n",
    "correct = sum((torch.argmax(model(images), dim=1) == labels).sum().item() \n",
    "              for images, labels in test_loader)\n",
    "total = len(mnist_test)"
   ]
  },
  {
   "cell_type": "code",
   "execution_count": 48,
   "metadata": {},
   "outputs": [
    {
     "name": "stdout",
     "output_type": "stream",
     "text": [
      "accuracy: 0.9849\n"
     ]
    }
   ],
   "source": [
    "print(f\"accuracy: {correct / total}\")"
   ]
  },
  {
   "cell_type": "code",
   "execution_count": null,
   "metadata": {},
   "outputs": [],
   "source": []
  }
 ],
 "metadata": {
  "kernelspec": {
   "display_name": "pdl_p",
   "language": "python",
   "name": "python3"
  },
  "language_info": {
   "codemirror_mode": {
    "name": "ipython",
    "version": 3
   },
   "file_extension": ".py",
   "mimetype": "text/x-python",
   "name": "python",
   "nbconvert_exporter": "python",
   "pygments_lexer": "ipython3",
   "version": "3.11.9"
  }
 },
 "nbformat": 4,
 "nbformat_minor": 2
}
