{
 "cells": [
  {
   "cell_type": "markdown",
   "metadata": {},
   "source": [
    "## Lesosn 21\n",
    "\n",
    "[Course Repo](https://github.com/fastai/course22p2)\n",
    "\n",
    "\n",
    "Breif outline\n",
    "\n",
    "-  Jono: Demo of WandB.  (notebook 21_cifar10_and_wandb.ipynb) \n",
    "    - Uses CFAR10 instead of fashion mnist.  The tools still work. \n",
    "    - Weights and Biases (WandB) mointoring. Using [WandB](https://wandb.ai/site) for monitoring and tracking of model performance. \n",
    "    - You call logging functions in your code to log metrics, hyperparameters, and other data to the WandB server, and then you can view and compare these results in the WandB dashboard.\n",
    "    - You can also use WandB to log models, code and more.\n",
    "    - Jono implements a WandB callback in a few lines to implment this!\n",
    "    - Jeremy says he doesn't use this (intentionally) because he worries about just doing wide sweeps of hyperparameters.  He prefers to do a more focused search.\n",
    "\n",
    "- 20:50 Metrics  "
   ]
  },
  {
   "cell_type": "markdown",
   "metadata": {},
   "source": []
  }
 ],
 "metadata": {
  "language_info": {
   "name": "python"
  }
 },
 "nbformat": 4,
 "nbformat_minor": 2
}
