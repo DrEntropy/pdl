{
 "cells": [
  {
   "cell_type": "markdown",
   "metadata": {},
   "source": [
    "# Lesson 21\n",
    "\n",
    "[Course Repo](https://github.com/fastai/course22p2)\n",
    "\n",
    "\n",
    "\n",
    "## Weights and Balances (WandB) demo\n",
    "\n",
    "Jono: Demo of WandB.  (notebook 21_cifar10_and_wandb.ipynb) \n",
    "\n",
    "Main points:\n",
    "\n",
    "- Uses CFAR10 instead of fashion mnist.  The tools still work. \n",
    "- Weights and Biases (WandB) mointoring:\n",
    "    -  [WandB](https://wandb.ai/site) for monitoring and tracking of model performance. \n",
    "    -  Call logging functions in your code to log metrics, hyperparameters, and other data to the WandB server, and then you can view and compare these results in the WandB dashboard.\n",
    "    -  You can also use WandB to log models, code and more.\n",
    "- Jono implements a WandB callback in a few lines to implment this!\n",
    "- Jeremy says he doesn't use this (intentionally) because he worries about just doing wide sweeps of hyperparameters.  He prefers to do a more focused search."
   ]
  },
  {
   "cell_type": "markdown",
   "metadata": {},
   "source": [
    "## Image quality metrics\n",
    "\n",
    "- We need a metric to evaluate the quality of the generated images, to compare different samplers or models. \n",
    "\n",
    "- **Frechet Inception Distance (FID)**:  \n",
    "  - Demonstration available in `18_fid.ipynb` at the course repo. \n",
    "  - FID is a commonly used metric for evaluating image-generating models.  \n",
    "  - It measures how similar the generated images are to real ones.  \n",
    "  - Specifically, it compares the statistical properties of the 'typical' final layer activations from a pretrained neural network for both sets of images.  \n"
   ]
  },
  {
   "cell_type": "code",
   "execution_count": 1,
   "metadata": {},
   "outputs": [],
   "source": [
    "\n",
    "import pickle,gzip,math,os,time,shutil,torch,random\n",
    "import fastcore.all as fc,matplotlib as mpl,numpy as np,matplotlib.pyplot as plt\n",
    "from collections.abc import Mapping\n",
    "from pathlib import Path\n",
    "from operator import attrgetter,itemgetter\n",
    "from functools import partial\n",
    "from copy import copy\n",
    "from contextlib import contextmanager\n",
    "from scipy import linalg\n",
    "\n",
    "from fastcore.foundation import L\n",
    "import torchvision.transforms.functional as TF,torch.nn.functional as F\n",
    "from torch import tensor,nn,optim\n",
    "from torch.utils.data import DataLoader,default_collate\n",
    "from torch.nn import init\n",
    "from torch.optim import lr_scheduler\n",
    "from torcheval.metrics import MulticlassAccuracy\n",
    "from datasets import load_dataset,load_dataset_builder\n",
    "\n",
    "from minai.datasets import *\n",
    "from minai.conv import *\n",
    "from minai.learner import *\n",
    "from minai.activations import *\n",
    "from minai.init import *\n",
    "from minai.sgd import *\n",
    "from minai.resnet import *\n",
    "from minai.augment import *\n",
    "from minai.accel import *"
   ]
  },
  {
   "cell_type": "code",
   "execution_count": 2,
   "metadata": {},
   "outputs": [],
   "source": [
    "from fastcore.test import test_close\n",
    "from torch import distributions\n",
    "\n",
    "torch.set_printoptions(precision=2, linewidth=140, sci_mode=False)\n",
    "torch.manual_seed(1)\n",
    "mpl.rcParams['image.cmap'] = 'gray_r'\n",
    "\n",
    "import logging\n",
    "logging.disable(logging.WARNING)\n",
    "\n",
    "set_seed(42)\n",
    "if fc.defaults.cpus>8: fc.defaults.cpus=8"
   ]
  },
  {
   "cell_type": "markdown",
   "metadata": {},
   "source": [
    "### Use existing classifier with classifier head removed\n",
    "\n",
    "* Using a model I trained previously for classification of fashion mnist. \n",
    "* Remove the classifier head and use the final layer activations as the features for the FID calculation."
   ]
  },
  {
   "cell_type": "code",
   "execution_count": 3,
   "metadata": {},
   "outputs": [
    {
     "name": "stderr",
     "output_type": "stream",
     "text": [
      "/tmp/ipykernel_37529/4001158253.py:17: FutureWarning: You are using `torch.load` with `weights_only=False` (the current default value), which uses the default pickle module implicitly. It is possible to construct malicious pickle data which will execute arbitrary code during unpickling (See https://github.com/pytorch/pytorch/blob/main/SECURITY.md#untrusted-models for more details). In a future release, the default value for `weights_only` will be flipped to `True`. This limits the functions that could be executed during unpickling. Arbitrary objects will no longer be allowed to be loaded via this mode unless they are explicitly allowlisted by the user via `torch.serialization.add_safe_globals`. We recommend you start setting `weights_only=True` for any use case where you don't have full control of the loaded file. Please open an issue on GitHub for any issues related to this experimental feature.\n",
      "  model = torch.load('models/data_aug.pkl')\n"
     ]
    }
   ],
   "source": [
    "xl,yl = 'image','label'\n",
    "name = \"fashion_mnist\"\n",
    "# changed from 512 to 256\n",
    "bs = 256\n",
    "\n",
    "@inplace\n",
    "def transformi(b): b[xl] = [F.pad(TF.to_tensor(o), (2,2,2,2))*2-1 for o in b[xl]]\n",
    "\n",
    "dsd = load_dataset(name)\n",
    "tds = dsd.with_transform(transformi)\n",
    "dls = DataLoaders.from_dd(tds, bs, num_workers=fc.defaults.cpus)\n",
    "\n",
    "b = xb,yb = next(iter(dls.train))\n",
    "\n",
    "cbs = [DeviceCB(), MixedPrecision()]\n",
    "# I dont have a data_aug2 so hopefully this one will work\n",
    "model = torch.load('models/data_aug.pkl')\n",
    "learn = Learner(model, dls, F.cross_entropy, cbs=cbs, opt_func=None)\n"
   ]
  },
  {
   "cell_type": "code",
   "execution_count": 4,
   "metadata": {},
   "outputs": [
    {
     "data": {
      "text/plain": [
       "Sequential(\n",
       "  (0): ResBlock(\n",
       "    (convs): Sequential(\n",
       "      (0): Sequential(\n",
       "        (0): Conv2d(1, 16, kernel_size=(5, 5), stride=(1, 1), padding=(2, 2))\n",
       "        (1): BatchNorm2d(16, eps=1e-05, momentum=0.1, affine=True, track_running_stats=True)\n",
       "        (2): GeneralRelu()\n",
       "      )\n",
       "      (1): Sequential(\n",
       "        (0): Conv2d(16, 16, kernel_size=(5, 5), stride=(1, 1), padding=(2, 2))\n",
       "        (1): BatchNorm2d(16, eps=1e-05, momentum=0.1, affine=True, track_running_stats=True)\n",
       "      )\n",
       "    )\n",
       "    (idconv): Sequential(\n",
       "      (0): Conv2d(1, 16, kernel_size=(1, 1), stride=(1, 1))\n",
       "    )\n",
       "    (act): GeneralRelu()\n",
       "  )\n",
       "  (1): ResBlock(\n",
       "    (convs): Sequential(\n",
       "      (0): Sequential(\n",
       "        (0): Conv2d(16, 32, kernel_size=(3, 3), stride=(1, 1), padding=(1, 1))\n",
       "        (1): BatchNorm2d(32, eps=1e-05, momentum=0.1, affine=True, track_running_stats=True)\n",
       "        (2): GeneralRelu()\n",
       "      )\n",
       "      (1): Sequential(\n",
       "        (0): Conv2d(32, 32, kernel_size=(3, 3), stride=(2, 2), padding=(1, 1))\n",
       "        (1): BatchNorm2d(32, eps=1e-05, momentum=0.1, affine=True, track_running_stats=True)\n",
       "      )\n",
       "    )\n",
       "    (idconv): Sequential(\n",
       "      (0): Conv2d(16, 32, kernel_size=(1, 1), stride=(1, 1))\n",
       "    )\n",
       "    (pool): AvgPool2d(kernel_size=2, stride=2, padding=0)\n",
       "    (act): GeneralRelu()\n",
       "  )\n",
       "  (2): ResBlock(\n",
       "    (convs): Sequential(\n",
       "      (0): Sequential(\n",
       "        (0): Conv2d(32, 64, kernel_size=(3, 3), stride=(1, 1), padding=(1, 1))\n",
       "        (1): BatchNorm2d(64, eps=1e-05, momentum=0.1, affine=True, track_running_stats=True)\n",
       "        (2): GeneralRelu()\n",
       "      )\n",
       "      (1): Sequential(\n",
       "        (0): Conv2d(64, 64, kernel_size=(3, 3), stride=(2, 2), padding=(1, 1))\n",
       "        (1): BatchNorm2d(64, eps=1e-05, momentum=0.1, affine=True, track_running_stats=True)\n",
       "      )\n",
       "    )\n",
       "    (idconv): Sequential(\n",
       "      (0): Conv2d(32, 64, kernel_size=(1, 1), stride=(1, 1))\n",
       "    )\n",
       "    (pool): AvgPool2d(kernel_size=2, stride=2, padding=0)\n",
       "    (act): GeneralRelu()\n",
       "  )\n",
       "  (3): ResBlock(\n",
       "    (convs): Sequential(\n",
       "      (0): Sequential(\n",
       "        (0): Conv2d(64, 128, kernel_size=(3, 3), stride=(1, 1), padding=(1, 1))\n",
       "        (1): BatchNorm2d(128, eps=1e-05, momentum=0.1, affine=True, track_running_stats=True)\n",
       "        (2): GeneralRelu()\n",
       "      )\n",
       "      (1): Sequential(\n",
       "        (0): Conv2d(128, 128, kernel_size=(3, 3), stride=(2, 2), padding=(1, 1))\n",
       "        (1): BatchNorm2d(128, eps=1e-05, momentum=0.1, affine=True, track_running_stats=True)\n",
       "      )\n",
       "    )\n",
       "    (idconv): Sequential(\n",
       "      (0): Conv2d(64, 128, kernel_size=(1, 1), stride=(1, 1))\n",
       "    )\n",
       "    (pool): AvgPool2d(kernel_size=2, stride=2, padding=0)\n",
       "    (act): GeneralRelu()\n",
       "  )\n",
       "  (4): ResBlock(\n",
       "    (convs): Sequential(\n",
       "      (0): Sequential(\n",
       "        (0): Conv2d(128, 256, kernel_size=(3, 3), stride=(1, 1), padding=(1, 1))\n",
       "        (1): BatchNorm2d(256, eps=1e-05, momentum=0.1, affine=True, track_running_stats=True)\n",
       "        (2): GeneralRelu()\n",
       "      )\n",
       "      (1): Sequential(\n",
       "        (0): Conv2d(256, 256, kernel_size=(3, 3), stride=(2, 2), padding=(1, 1))\n",
       "        (1): BatchNorm2d(256, eps=1e-05, momentum=0.1, affine=True, track_running_stats=True)\n",
       "      )\n",
       "    )\n",
       "    (idconv): Sequential(\n",
       "      (0): Conv2d(128, 256, kernel_size=(1, 1), stride=(1, 1))\n",
       "    )\n",
       "    (pool): AvgPool2d(kernel_size=2, stride=2, padding=0)\n",
       "    (act): GeneralRelu()\n",
       "  )\n",
       "  (5): ResBlock(\n",
       "    (convs): Sequential(\n",
       "      (0): Sequential(\n",
       "        (0): Conv2d(256, 512, kernel_size=(3, 3), stride=(1, 1), padding=(1, 1))\n",
       "        (1): BatchNorm2d(512, eps=1e-05, momentum=0.1, affine=True, track_running_stats=True)\n",
       "        (2): GeneralRelu()\n",
       "      )\n",
       "      (1): Sequential(\n",
       "        (0): Conv2d(512, 512, kernel_size=(3, 3), stride=(2, 2), padding=(1, 1))\n",
       "        (1): BatchNorm2d(512, eps=1e-05, momentum=0.1, affine=True, track_running_stats=True)\n",
       "      )\n",
       "    )\n",
       "    (idconv): Sequential(\n",
       "      (0): Conv2d(256, 512, kernel_size=(1, 1), stride=(1, 1))\n",
       "    )\n",
       "    (pool): AvgPool2d(kernel_size=2, stride=2, padding=0)\n",
       "    (act): GeneralRelu()\n",
       "  )\n",
       "  (6): Flatten(start_dim=1, end_dim=-1)\n",
       "  (7): Linear(in_features=512, out_features=10, bias=False)\n",
       "  (8): BatchNorm1d(10, eps=1e-05, momentum=0.1, affine=True, track_running_stats=True)\n",
       ")"
      ]
     },
     "execution_count": 4,
     "metadata": {},
     "output_type": "execute_result"
    }
   ],
   "source": [
    "model"
   ]
  },
  {
   "cell_type": "markdown",
   "metadata": {},
   "source": [
    "We want the output without the classifier head.  "
   ]
  },
  {
   "cell_type": "code",
   "execution_count": 5,
   "metadata": {},
   "outputs": [],
   "source": [
    "del(learn.model[8])\n",
    "del(learn.model[7])"
   ]
  },
  {
   "cell_type": "markdown",
   "metadata": {},
   "source": [
    "Could also use callbacks to do this."
   ]
  },
  {
   "cell_type": "code",
   "execution_count": 6,
   "metadata": {},
   "outputs": [
    {
     "name": "stderr",
     "output_type": "stream",
     "text": [
      "/home/ron/datadev/pdl/minai/accel.py:29: FutureWarning: `torch.cuda.amp.GradScaler(args...)` is deprecated. Please use `torch.amp.GradScaler('cuda', args...)` instead.\n",
      "  def before_fit(self, learn): self.scaler = torch.cuda.amp.GradScaler()\n"
     ]
    },
    {
     "data": {
      "text/plain": [
       "(torch.Size([10000, 512]), tensor([9, 2, 1,  ..., 8, 1, 5]))"
      ]
     },
     "execution_count": 6,
     "metadata": {},
     "output_type": "execute_result"
    }
   ],
   "source": [
    "feats,y = learn.capture_preds()\n",
    "feats = feats.float()\n",
    "feats.shape,y"
   ]
  },
  {
   "cell_type": "markdown",
   "metadata": {},
   "source": [
    "### Flechet Inception Distance (FID)"
   ]
  },
  {
   "cell_type": "markdown",
   "metadata": {},
   "source": [
    "- Uses means and covariance matrix of the global pooling layer (accross the samples/training data) of the classification model\n",
    "- These are compared for two batches of images (generated and real) to get a distance metric.\n",
    "- Idea is that the pooling layer has activations for various feature in the images. If those features are correlated (e.g. ears and eyes) then the means and covariance matrix will be correlated.\n",
    " \n",
    "$$\n",
    "d_{F}(\\mathcal N(\\mu, \\Sigma), \\mathcal N(\\mu', \\Sigma'))^2 = \\lVert \\mu - \\mu' \\rVert^2_2 + \\operatorname{tr}\\left(\\Sigma + \\Sigma' -2\\left(\\Sigma \\Sigma'  \\right)^\\frac{1}{2} \\right)\n",
    "$$\n",
    "\n",
    "Note the need of the matrix square root. The video spends a few minutes discussing how to compute this with a generalizatoin of newton's method.\n",
    "\n",
    "* Called Inception because the original paper used the Inception model.\n",
    "* Primary caveat is that you have to be careful comparing FID scores with different sized data sets. Not a universal metric.\n",
    "* FID is a good metric for comparing different models on the same data set.\n"
   ]
  },
  {
   "cell_type": "markdown",
   "metadata": {},
   "source": [
    "Now we need our image generator again."
   ]
  },
  {
   "cell_type": "code",
   "execution_count": 7,
   "metadata": {},
   "outputs": [
    {
     "name": "stderr",
     "output_type": "stream",
     "text": [
      "/tmp/ipykernel_37529/2307509700.py:30: FutureWarning: You are using `torch.load` with `weights_only=False` (the current default value), which uses the default pickle module implicitly. It is possible to construct malicious pickle data which will execute arbitrary code during unpickling (See https://github.com/pytorch/pytorch/blob/main/SECURITY.md#untrusted-models for more details). In a future release, the default value for `weights_only` will be flipped to `True`. This limits the functions that could be executed during unpickling. Arbitrary objects will no longer be allowed to be loaded via this mode unless they are explicitly allowlisted by the user via `torch.serialization.add_safe_globals`. We recommend you start setting `weights_only=True` for any use case where you don't have full control of the loaded file. Please open an issue on GitHub for any issues related to this experimental feature.\n",
      "  smodel = torch.load('models/fashion_ddpmDec15.pkl').cuda()\n"
     ]
    }
   ],
   "source": [
    "betamin,betamax,n_steps = 0.0001,0.01,1000\n",
    "beta = torch.linspace(betamin, betamax, n_steps)\n",
    "alpha = 1.-beta\n",
    "alphabar = alpha.cumprod(dim=0)\n",
    "sigma = beta.sqrt()\n",
    "\n",
    "clean_mem()\n",
    "\n",
    "def noisify(x0, ᾱ):\n",
    "    device = x0.device\n",
    "    n = len(x0)\n",
    "    t = torch.randint(0, n_steps, (n,), dtype=torch.long)\n",
    "    ε = torch.randn(x0.shape, device=device)\n",
    "    ᾱ_t = ᾱ[t].reshape(-1, 1, 1, 1).to(device)\n",
    "    xt = ᾱ_t.sqrt()*x0 + (1-ᾱ_t).sqrt()*ε\n",
    "    return (xt, t.to(device)), ε\n",
    "\n",
    "def collate_ddpm(b): return noisify(default_collate(b)[xl], alphabar)\n",
    "def dl_ddpm(ds): return DataLoader(ds, batch_size=bs, collate_fn=collate_ddpm, num_workers=4)\n",
    "\n",
    "dls2 = DataLoaders(dl_ddpm(tds['train']), dl_ddpm(tds['test']))\n",
    "\n",
    "\n",
    "from diffusers import UNet2DModel\n",
    "\n",
    "class UNet(UNet2DModel):\n",
    "    def forward(self, x): return super().forward(*x).sample\n",
    "\n",
    "\n",
    "smodel = torch.load('models/fashion_ddpmDec15.pkl').cuda()"
   ]
  },
  {
   "cell_type": "code",
   "execution_count": 8,
   "metadata": {},
   "outputs": [],
   "source": [
    "# @torch.no_grad()\n",
    "# def sample(model, sz, alpha, alphabar, sigma, n_steps):\n",
    "#     device = next(model.parameters()).device\n",
    "#     x_t = torch.randn(sz, device=device)\n",
    "#     preds = []\n",
    "#     for t in reversed(range(n_steps)):\n",
    "#         t_batch = torch.full((x_t.shape[0],), t, device=device, dtype=torch.long)\n",
    "#         z = (torch.randn(x_t.shape) if t > 0 else torch.zeros(x_t.shape)).to(device)\n",
    "#         ᾱ_t1 = alphabar[t-1]  if t > 0 else torch.tensor(1)\n",
    "#         b̄_t = 1 - alphabar[t]\n",
    "#         b̄_t1 = 1 - ᾱ_t1\n",
    "#         x_0_hat = ((x_t - b̄_t.sqrt() * model((x_t, t_batch)))/alphabar[t].sqrt())\n",
    "#         x_t = x_0_hat * ᾱ_t1.sqrt()*(1-alpha[t])/b̄_t + x_t * alpha[t].sqrt()*b̄_t1/b̄_t + sigma[t]*z\n",
    "#         preds.append(x_0_hat.cpu())\n",
    "#     return preds\n",
    "\n",
    "# Alternative version. Algorithm 2 from the paper\n",
    "@torch.no_grad()\n",
    "def sample(model, sz, alpha, alphabar, sigma, n_steps):\n",
    "    device = next(model.parameters()).device\n",
    "    x_t = torch.randn(sz, device=device)  # x_T \n",
    "    preds = []\n",
    "    for t in reversed(range(n_steps)):\n",
    "        t_batch = torch.full((x_t.shape[0],), t, device=device, dtype=torch.long) # make it look like a batch\n",
    "        z = (torch.randn(x_t.shape) if t > 0 else torch.zeros(x_t.shape)).to(device)\n",
    "        b̄_t = 1 - alphabar[t]\n",
    "        x_t = ((x_t -(1- alpha[t])/ b̄_t.sqrt() * model((x_t, t_batch)))/alpha[t].sqrt()) + sigma[t]*z\n",
    "        preds.append(x_t.cpu())\n",
    "    return preds"
   ]
  },
  {
   "cell_type": "markdown",
   "metadata": {},
   "source": [
    "Note this takes much longer for my machine then in teh video. Video did this in 34 seconds. For me it was 2 minutes."
   ]
  },
  {
   "cell_type": "code",
   "execution_count": 9,
   "metadata": {},
   "outputs": [
    {
     "name": "stdout",
     "output_type": "stream",
     "text": [
      "CPU times: user 2min 6s, sys: 2.48 s, total: 2min 9s\n",
      "Wall time: 2min 9s\n"
     ]
    }
   ],
   "source": [
    "%%time\n",
    "samples = sample(smodel, (256, 1, 32, 32), alpha, alphabar, sigma, n_steps)"
   ]
  },
  {
   "cell_type": "code",
   "execution_count": 10,
   "metadata": {},
   "outputs": [
    {
     "data": {
      "image/png": "[encoded data removed]",
      "text/plain": [
       "<Figure size 600x600 with 16 Axes>"
      ]
     },
     "metadata": {},
     "output_type": "display_data"
    }
   ],
   "source": [
    "s = samples[-1]*2  \n",
    "show_images(s[:16], imsize=1.5)"
   ]
  },
  {
   "cell_type": "markdown",
   "metadata": {},
   "source": [
    "### Image Eval class\n",
    "\n",
    "- To make this easier to use, we can create a class to handle the evaluation of the images.\n",
    "\n",
    "- In addition to FID, the video quickly introduces another metric called KID (Kernal Inception Distance)\n",
    "    - Uses the features directly not the means accross the set. \n",
    "    - \"The math doesnt matter\" \n",
    "    - Measure of simularity between the distribtuions of the features.   \n",
    "    - Has low bias but high variance.\n",
    "\n"
   ]
  },
  {
   "cell_type": "code",
   "execution_count": 11,
   "metadata": {},
   "outputs": [],
   "source": [
    "\n",
    "def _calc_stats(feats):\n",
    "    feats = feats.squeeze()\n",
    "    return feats.mean(0),feats.T.cov()\n",
    "\n",
    "def _calc_fid(m1,c1,m2,c2):\n",
    "    csr = tensor(linalg.sqrtm(c1@c2, 256).real)\n",
    "    return (((m1-m2)**2).sum() + c1.trace() + c2.trace() - 2*csr.trace()).item()\n",
    "\n",
    "\n",
    "\n",
    "def _squared_mmd(x, y):\n",
    "    def k(a,b): return (a@b.transpose(-2,-1)/a.shape[-1]+1)**3\n",
    "    m,n = x.shape[-2],y.shape[-2]\n",
    "    kxx,kyy,kxy = k(x,x), k(y,y), k(x,y)\n",
    "    kxx_sum = kxx.sum([-1,-2])-kxx.diagonal(0,-1,-2).sum(-1)\n",
    "    kyy_sum = kyy.sum([-1,-2])-kyy.diagonal(0,-1,-2).sum(-1)\n",
    "    kxy_sum = kxy.sum([-1,-2])\n",
    "    return kxx_sum/m/(m-1) + kyy_sum/n/(n-1) - kxy_sum*2/m/n\n",
    "\n",
    "\n",
    "def _calc_kid(x, y, maxs=50):\n",
    "    xs,ys = x.shape[0],y.shape[0]\n",
    "    n = max(math.ceil(min(xs/maxs, ys/maxs)), 4)\n",
    "    mmd = 0.\n",
    "    for i in range(n):\n",
    "        cur_x = x[round(i*xs/n) : round((i+1)*xs/n)]\n",
    "        cur_y = y[round(i*ys/n) : round((i+1)*ys/n)]\n",
    "        mmd += _squared_mmd(cur_x, cur_y)\n",
    "    return (mmd/n).item()"
   ]
  },
  {
   "cell_type": "code",
   "execution_count": 12,
   "metadata": {},
   "outputs": [],
   "source": [
    "class ImageEval:\n",
    "    def __init__(self, model, dls, cbs=None):\n",
    "        self.learn = TrainLearner(model, dls, loss_func=fc.noop, cbs=cbs, opt_func=None)\n",
    "        self.feats = self.learn.capture_preds()[0].float().cpu().squeeze()\n",
    "        self.stats = _calc_stats(self.feats)\n",
    "\n",
    "    def get_feats(self, samp):\n",
    "        self.learn.dls = DataLoaders([],[(samp, tensor([0]))])\n",
    "        return self.learn.capture_preds()[0].float().cpu().squeeze()\n",
    "\n",
    "    def fid(self, samp): return _calc_fid(*self.stats, *_calc_stats(self.get_feats(samp)))\n",
    "    def kid(self, samp): return _calc_kid(self.feats, self.get_feats(samp))"
   ]
  },
  {
   "cell_type": "code",
   "execution_count": 13,
   "metadata": {},
   "outputs": [
    {
     "data": {
      "text/plain": [
       "8.92059326171875"
      ]
     },
     "execution_count": 13,
     "metadata": {},
     "output_type": "execute_result"
    }
   ],
   "source": [
    "ie = ImageEval(model, learn.dls, cbs = [DeviceCB()])\n",
    "ie.fid(s)"
   ]
  },
  {
   "cell_type": "markdown",
   "metadata": {},
   "source": [
    "Note Jeremy's was only 8, but he did train for 25 epochs vs my 10 epochs, and has more images in his batch. Note that setting betamax to 0.01 instead of 0.02 makes a huge difference.  "
   ]
  },
  {
   "cell_type": "code",
   "execution_count": 42,
   "metadata": {},
   "outputs": [
    {
     "data": {
      "text/plain": [
       "(tensor(-1.16), tensor(1.45))"
      ]
     },
     "execution_count": 42,
     "metadata": {},
     "output_type": "execute_result"
    }
   ],
   "source": [
    "s.min(),s.max()"
   ]
  },
  {
   "cell_type": "code",
   "execution_count": 14,
   "metadata": {},
   "outputs": [
    {
     "data": {
      "text/plain": [
       "9.7236328125"
      ]
     },
     "execution_count": 14,
     "metadata": {},
     "output_type": "execute_result"
    }
   ],
   "source": [
    "ie.fid(xb)"
   ]
  },
  {
   "cell_type": "markdown",
   "metadata": {},
   "source": [
    "## Fixing the scaling bug 1:00\n",
    "\n",
    "- Jeremy noticed that back in the DDPM_v2 notebook, the images were scaled from 0 to 1 instad of -1 to 1.   He fixes this:\n",
    "```\n",
    "@inplace\n",
    "def transformi(b): b[xl] = [F.pad(TF.to_tensor(o), (2,2,2,2))*2-1 for o in b[xl]]\n",
    "```\n",
    "\n",
    "- This makes everything worse, so he spent two days trying to find the other bug that must be responsble and was being offset by this bug.\n",
    "\n",
    "- In the end he finds no relavent bug and asks: why is it a bug to scale from 0 to 1? Just because everyone else does it?  He tried it ny just subtracting 0.5 which keeps the range the same (smaller then normal). This leads to DDBM_v3. This is an improvement to the model.  This is the model I am using already above. \n",
    " "
   ]
  },
  {
   "cell_type": "markdown",
   "metadata": {},
   "source": [
    "## Skip sampling\n",
    "\n",
    "* I am skipping this part as it is a bit ad hoc. \n",
    "\n",
    "* Moving on to DDIM"
   ]
  },
  {
   "cell_type": "markdown",
   "metadata": {
    "vscode": {
     "languageId": "bat"
    }
   },
   "source": [
    "## DDIM (Denoising Diffusion Implicit Model) 1:20  \n",
    "\n",
    "Notebook: 20_DDIM.ipynb"
   ]
  },
  {
   "cell_type": "markdown",
   "metadata": {},
   "source": [
    "Reimport things so we can start here"
   ]
  },
  {
   "cell_type": "code",
   "execution_count": 1,
   "metadata": {},
   "outputs": [
    {
     "ename": "NameError",
     "evalue": "name 'clean_mem' is not defined",
     "output_type": "error",
     "traceback": [
      "\u001b[0;31m---------------------------------------------------------------------------\u001b[0m",
      "\u001b[0;31mNameError\u001b[0m                                 Traceback (most recent call last)",
      "Cell \u001b[0;32mIn[1], line 1\u001b[0m\n\u001b[0;32m----> 1\u001b[0m \u001b[43mclean_mem\u001b[49m()\n",
      "\u001b[0;31mNameError\u001b[0m: name 'clean_mem' is not defined"
     ]
    }
   ],
   "source": [
    "clean_mem()"
   ]
  },
  {
   "cell_type": "code",
   "execution_count": 2,
   "metadata": {},
   "outputs": [],
   "source": [
    "import pickle,gzip,math,os,time,shutil,torch,random,logging\n",
    "import fastcore.all as fc,matplotlib as mpl,numpy as np,matplotlib.pyplot as plt\n",
    "from collections.abc import Mapping\n",
    "from pathlib import Path\n",
    "from functools import partial\n",
    "\n",
    "from fastcore.foundation import L\n",
    "import torchvision.transforms.functional as TF,torch.nn.functional as F\n",
    "from torch import tensor,nn,optim\n",
    "from torch.utils.data import DataLoader,default_collate\n",
    "from torch.nn import init\n",
    "from torch.optim import lr_scheduler\n",
    "\n",
    "from minai.datasets import *\n",
    "from minai.conv import *\n",
    "from minai.learner import *\n",
    "from minai.activations import *\n",
    "from minai.init import *\n",
    "from minai.sgd import *\n",
    "from minai.resnet import *\n",
    "from minai.augment import *\n",
    "from minai.accel import *\n",
    "from minai.fid import *\n",
    "\n",
    "\n",
    "from fastprogress.fastprogress import progress_bar"
   ]
  },
  {
   "cell_type": "code",
   "execution_count": 3,
   "metadata": {},
   "outputs": [],
   "source": [
    "from torcheval.metrics import MulticlassAccuracy\n",
    "from datasets import load_dataset,load_dataset_builder\n",
    "\n",
    "mpl.rcParams['image.cmap'] = 'gray_r'\n",
    "logging.disable(logging.WARNING)"
   ]
  },
  {
   "cell_type": "code",
   "execution_count": 4,
   "metadata": {},
   "outputs": [],
   "source": [
    "xl,yl = 'image','label'\n",
    "name = \"fashion_mnist\"\n",
    "dsd = load_dataset(name)"
   ]
  },
  {
   "cell_type": "code",
   "execution_count": 5,
   "metadata": {},
   "outputs": [],
   "source": [
    "from diffusers import UNet2DModel, DDIMPipeline, DDPMPipeline, DDIMScheduler, DDPMScheduler"
   ]
  },
  {
   "cell_type": "markdown",
   "metadata": {},
   "source": [
    "## Diffusers DDPM Scheduler\n",
    "\n",
    "This uses the diffusers library scheduler. \n",
    "\n",
    "It uses the full output of the model, so we dont need to call sample , etc: "
   ]
  },
  {
   "cell_type": "code",
   "execution_count": 6,
   "metadata": {},
   "outputs": [],
   "source": [
    "class UNet(UNet2DModel): pass"
   ]
  },
  {
   "cell_type": "code",
   "execution_count": 7,
   "metadata": {},
   "outputs": [
    {
     "name": "stderr",
     "output_type": "stream",
     "text": [
      "/tmp/ipykernel_983/2524294428.py:1: FutureWarning: You are using `torch.load` with `weights_only=False` (the current default value), which uses the default pickle module implicitly. It is possible to construct malicious pickle data which will execute arbitrary code during unpickling (See https://github.com/pytorch/pytorch/blob/main/SECURITY.md#untrusted-models for more details). In a future release, the default value for `weights_only` will be flipped to `True`. This limits the functions that could be executed during unpickling. Arbitrary objects will no longer be allowed to be loaded via this mode unless they are explicitly allowlisted by the user via `torch.serialization.add_safe_globals`. We recommend you start setting `weights_only=True` for any use case where you don't have full control of the loaded file. Please open an issue on GitHub for any issues related to this experimental feature.\n",
      "  model = torch.load('models/fashion_ddpmDec15.pkl').cuda()\n"
     ]
    }
   ],
   "source": [
    "\n",
    "model = torch.load('models/fashion_ddpmDec15.pkl').cuda()"
   ]
  },
  {
   "cell_type": "code",
   "execution_count": 8,
   "metadata": {},
   "outputs": [],
   "source": [
    "sched = DDPMScheduler(beta_end=0.01)"
   ]
  },
  {
   "cell_type": "code",
   "execution_count": 9,
   "metadata": {},
   "outputs": [],
   "source": [
    "sz = (256,1,32,32) # notebook used 2048 !  !"
   ]
  },
  {
   "cell_type": "code",
   "execution_count": 10,
   "metadata": {},
   "outputs": [
    {
     "data": {
      "text/html": [
       "\n",
       "<style>\n",
       "    /* Turns off some styling */\n",
       "    progress {\n",
       "        /* gets rid of default border in Firefox and Opera. */\n",
       "        border: none;\n",
       "        /* Needs to be in here for Safari polyfill so background images work as expected. */\n",
       "        background-size: auto;\n",
       "    }\n",
       "    progress:not([value]), progress:not([value])::-webkit-progress-bar {\n",
       "        background: repeating-linear-gradient(45deg, #7e7e7e, #7e7e7e 10px, #5c5c5c 10px, #5c5c5c 20px);\n",
       "    }\n",
       "    .progress-bar-interrupted, .progress-bar-interrupted::-webkit-progress-bar {\n",
       "        background: #F44336;\n",
       "    }\n",
       "</style>\n"
      ],
      "text/plain": [
       "<IPython.core.display.HTML object>"
      ]
     },
     "metadata": {},
     "output_type": "display_data"
    },
    {
     "data": {
      "text/html": [
       "\n",
       "    <div>\n",
       "      <progress value='1000' class='' max='1000' style='width:300px; height:20px; vertical-align: middle;'></progress>\n",
       "      100.00% [1000/1000 02:15&lt;00:00]\n",
       "    </div>\n",
       "    "
      ],
      "text/plain": [
       "<IPython.core.display.HTML object>"
      ]
     },
     "metadata": {},
     "output_type": "display_data"
    },
    {
     "name": "stdout",
     "output_type": "stream",
     "text": [
      "CPU times: user 2min 12s, sys: 2.8 s, total: 2min 15s\n",
      "Wall time: 2min 15s\n"
     ]
    }
   ],
   "source": [
    "%%time\n",
    "x_t = torch.randn(sz).cuda()\n",
    "preds = []\n",
    "\n",
    "for t in progress_bar(sched.timesteps):\n",
    "    with torch.no_grad(): noise = model(x_t, t).sample\n",
    "    x_t = sched.step(noise, t, x_t).prev_sample\n",
    "    preds.append(x_t.float().cpu())"
   ]
  },
  {
   "cell_type": "code",
   "execution_count": 11,
   "metadata": {},
   "outputs": [
    {
     "data": {
      "image/png": "[encoded data removed]",
      "text/plain": [
       "<Figure size 600x600 with 16 Axes>"
      ]
     },
     "metadata": {},
     "output_type": "display_data"
    }
   ],
   "source": [
    "s = preds[-1].clamp(-0.5,0.5)*2\n",
    "show_images(s[:16], imsize=1.5)"
   ]
  },
  {
   "cell_type": "markdown",
   "metadata": {},
   "source": [
    "Set up classifier for image eval"
   ]
  },
  {
   "cell_type": "code",
   "execution_count": 12,
   "metadata": {},
   "outputs": [
    {
     "name": "stderr",
     "output_type": "stream",
     "text": [
      "/tmp/ipykernel_983/1778349126.py:1: FutureWarning: You are using `torch.load` with `weights_only=False` (the current default value), which uses the default pickle module implicitly. It is possible to construct malicious pickle data which will execute arbitrary code during unpickling (See https://github.com/pytorch/pytorch/blob/main/SECURITY.md#untrusted-models for more details). In a future release, the default value for `weights_only` will be flipped to `True`. This limits the functions that could be executed during unpickling. Arbitrary objects will no longer be allowed to be loaded via this mode unless they are explicitly allowlisted by the user via `torch.serialization.add_safe_globals`. We recommend you start setting `weights_only=True` for any use case where you don't have full control of the loaded file. Please open an issue on GitHub for any issues related to this experimental feature.\n",
      "  cmodel = torch.load('models/data_aug.pkl')\n"
     ]
    }
   ],
   "source": [
    "cmodel = torch.load('models/data_aug.pkl')\n",
    "del(cmodel[8])\n",
    "del(cmodel[7])\n",
    "\n",
    "@inplace\n",
    "def transformi(b): b[xl] = [F.pad(TF.to_tensor(o), (2,2,2,2))*2-1 for o in b[xl]]\n",
    "\n",
    "bs = 256 # Changed from 2048 to 256\n",
    "tds = dsd.with_transform(transformi)\n",
    "dls = DataLoaders.from_dd(tds, bs, num_workers=fc.defaults.cpus)\n",
    "\n",
    "dt = dls.train\n",
    "xb,yb = next(iter(dt))\n",
    "\n",
    "ie = ImageEval(cmodel, dls, cbs=[DeviceCB()])"
   ]
  },
  {
   "cell_type": "markdown",
   "metadata": {},
   "source": [
    "This will be for comparing to the DDIM model.  Note that my results are different due to a couple of things:\n",
    "\n",
    "1- I trained my denoising model for 10 not 25 epochs\n",
    "\n",
    "2- My image classifier model may be different. \n",
    "\n",
    "3- Batch size is much less for me. (256 vs 2048)\n",
    "\n",
    "But this is ok, we are going to use the same settings when we get to the DDIM model..\n",
    "\n",
    "Also i note that 256 images took 2 min 7 seconds"
   ]
  },
  {
   "cell_type": "code",
   "execution_count": 13,
   "metadata": {},
   "outputs": [
    {
     "data": {
      "text/plain": [
       "(11.283172607421875, 0.030962148681282997)"
      ]
     },
     "execution_count": 13,
     "metadata": {},
     "output_type": "execute_result"
    }
   ],
   "source": [
    "ie.fid(s),ie.kid(s)"
   ]
  },
  {
   "cell_type": "markdown",
   "metadata": {},
   "source": [
    "Note that this is about the same as our  linear schedular.  (Note that previously it was better, but then I noted that betamax was 0.01 instead of 0.02)"
   ]
  },
  {
   "cell_type": "code",
   "execution_count": 14,
   "metadata": {},
   "outputs": [
    {
     "data": {
      "text/plain": [
       "(9.097381591796875, -0.00871006678789854)"
      ]
     },
     "execution_count": 14,
     "metadata": {},
     "output_type": "execute_result"
    }
   ],
   "source": [
    "ie.fid(xb), ie.kid(xb)"
   ]
  },
  {
   "cell_type": "markdown",
   "metadata": {},
   "source": [
    "### Diffusers built in DDIM "
   ]
  },
  {
   "cell_type": "code",
   "execution_count": 15,
   "metadata": {},
   "outputs": [],
   "source": [
    "sched = DDIMScheduler(beta_end=0.01)\n",
    "sched.set_timesteps(100) # skip 10\n",
    "\n",
    "def diff_sample(model, sz, sched, **kwargs):\n",
    "    x_t = torch.randn(sz).cuda()\n",
    "    preds = []\n",
    "    for t in progress_bar(sched.timesteps):\n",
    "        with torch.no_grad(): noise = model(x_t, t).sample\n",
    "        x_t = sched.step(noise, t, x_t, **kwargs).prev_sample\n",
    "        preds.append(x_t.float().cpu())\n",
    "    return preds\n"
   ]
  },
  {
   "cell_type": "code",
   "execution_count": 16,
   "metadata": {},
   "outputs": [
    {
     "data": {
      "text/html": [
       "\n",
       "<style>\n",
       "    /* Turns off some styling */\n",
       "    progress {\n",
       "        /* gets rid of default border in Firefox and Opera. */\n",
       "        border: none;\n",
       "        /* Needs to be in here for Safari polyfill so background images work as expected. */\n",
       "        background-size: auto;\n",
       "    }\n",
       "    progress:not([value]), progress:not([value])::-webkit-progress-bar {\n",
       "        background: repeating-linear-gradient(45deg, #7e7e7e, #7e7e7e 10px, #5c5c5c 10px, #5c5c5c 20px);\n",
       "    }\n",
       "    .progress-bar-interrupted, .progress-bar-interrupted::-webkit-progress-bar {\n",
       "        background: #F44336;\n",
       "    }\n",
       "</style>\n"
      ],
      "text/plain": [
       "<IPython.core.display.HTML object>"
      ]
     },
     "metadata": {},
     "output_type": "display_data"
    },
    {
     "data": {
      "text/html": [
       "\n",
       "    <div>\n",
       "      <progress value='100' class='' max='100' style='width:300px; height:20px; vertical-align: middle;'></progress>\n",
       "      100.00% [100/100 00:13&lt;00:00]\n",
       "    </div>\n",
       "    "
      ],
      "text/plain": [
       "<IPython.core.display.HTML object>"
      ]
     },
     "metadata": {},
     "output_type": "display_data"
    },
    {
     "name": "stdout",
     "output_type": "stream",
     "text": [
      "CPU times: user 13.5 s, sys: 309 ms, total: 13.8 s\n",
      "Wall time: 13.8 s\n"
     ]
    }
   ],
   "source": [
    "%%time\n",
    "preds = diff_sample(model, sz, sched, eta=1.) # WHY eta=1.0? This just same as DDPM right?\n",
    "s = (preds[-1]*2).clamp(-1,1)"
   ]
  },
  {
   "cell_type": "code",
   "execution_count": 17,
   "metadata": {},
   "outputs": [
    {
     "data": {
      "image/png": "[encoded data removed]",
      "text/plain": [
       "<Figure size 750x450 with 15 Axes>"
      ]
     },
     "metadata": {},
     "output_type": "display_data"
    }
   ],
   "source": [
    "show_images(s[:15], imsize=1.5)"
   ]
  },
  {
   "cell_type": "code",
   "execution_count": 18,
   "metadata": {},
   "outputs": [
    {
     "data": {
      "text/plain": [
       "(12.235565185546875, 0.06591805070638657)"
      ]
     },
     "execution_count": 18,
     "metadata": {},
     "output_type": "execute_result"
    }
   ],
   "source": [
    "ie.fid(s),ie.kid(s)"
   ]
  },
  {
   "cell_type": "markdown",
   "metadata": {},
   "source": [
    "Much faster (12 s) and the fid is only a bit worse"
   ]
  },
  {
   "cell_type": "markdown",
   "metadata": {},
   "source": [
    "### Implementing DDIM\n",
    "\n",
    "[paper](https://arxiv.org/abs/2010.02502)"
   ]
  },
  {
   "cell_type": "markdown",
   "metadata": {},
   "source": [
    "Here we go back to **our** linear schedular."
   ]
  },
  {
   "cell_type": "code",
   "execution_count": 19,
   "metadata": {},
   "outputs": [],
   "source": [
    "from types import SimpleNamespace\n",
    "n_steps=1000\n",
    "\n",
    "def linear_sched(betamin=0.0001,betamax=0.02,n_steps=1000):\n",
    "    beta = torch.linspace(betamin, betamax, n_steps)\n",
    "    return SimpleNamespace(a=1.-beta, abar=(1.-beta).cumprod(dim=0), sig=beta.sqrt())\n",
    "\n",
    "sc = linear_sched(betamax=0.01, n_steps=n_steps)\n",
    "abar = sc.abar\n",
    "\n"
   ]
  },
  {
   "cell_type": "markdown",
   "metadata": {},
   "source": [
    "* In DDPM, they derived (from the forward process) the conditional probability of the next image given the previous image and given the initial images:\n",
    "\n",
    "$$\n",
    "q(\\mathbf{x}_{t-1} | \\mathbf{x}_t, \\mathbf{x}_0)\n",
    "$$\n",
    "\n",
    "* This was used to derive the sampling (reverse) process loss function\n",
    "\n",
    "* In DDIM, they generalize this reverse step into a more general (non-Markovian) form that still  results in the same loss function and training.  The forward process is different step by step (and not used), but this step is designed so that the overall $q(x_t,x_0)$ is the same.  The generalization allows for more flexible added noise in the reverse process, equation 6 in the paper. \n",
    "\n",
    "* To use this model, you simply need to compute the noise with your model as usual, but apply a different denoising (sampling) step:\n",
    "\n",
    "![sample](images/DDIMSampling.png)\n",
    "\n",
    "\n",
    "* $\\sigma$ is defined as:\n",
    "\n",
    "![sigma](images/DDIMSigma.png)\n",
    "\n",
    "\n",
    "\n",
    "* Here $\\eta$ is a variable that ranges from 0 (pure DDIM) to 1 (DDPM). $\\tau_i$ is the subset of timesteps.\n",
    "\n",
    "* Why does this work better for skipping steps?  I believe it is due to the deterministic nature of the DDIM model, but this is only in effect when $\\eta$ is 0.  Jerermy uses $\\eta = 1$ which I do not understand. **Anyone?**"
   ]
  },
  {
   "cell_type": "code",
   "execution_count": 20,
   "metadata": {},
   "outputs": [],
   "source": [
    "\n",
    "def ddim_step(x_t, t, noise, abar_t, abar_t1, bbar_t, bbar_t1, eta):\n",
    "    vari = ((bbar_t1/bbar_t) * (1-abar_t/abar_t1))\n",
    "    sig = vari.sqrt()*eta\n",
    "    x_0_hat = ((x_t-bbar_t.sqrt()*noise) / abar_t.sqrt())\n",
    "    x_t = abar_t1.sqrt()*x_0_hat + (bbar_t1-sig**2).sqrt()*noise\n",
    "    if t>0: x_t += sig * torch.randn(x_t.shape).to(x_t)\n",
    "    return x_t"
   ]
  },
  {
   "cell_type": "markdown",
   "metadata": {},
   "source": [
    "More general sampling function"
   ]
  },
  {
   "cell_type": "code",
   "execution_count": 21,
   "metadata": {},
   "outputs": [],
   "source": [
    "@torch.no_grad()\n",
    "def sample(f, model, sz, n_steps, skips=1, eta=1.):\n",
    "    tsteps = list(reversed(range(0, n_steps, skips)))\n",
    "    x_t = torch.randn(sz).to(model.device)\n",
    "    preds = []\n",
    "    for i,t in enumerate(progress_bar(tsteps)):\n",
    "        abar_t1 = abar[tsteps[i+1]] if t > 0 else torch.tensor(1)\n",
    "        noise = model(x_t,t).sample\n",
    "        x_t = f(x_t, t, noise, abar[t], abar_t1, 1-abar[t], 1-abar_t1, eta)\n",
    "        preds.append(x_t.float().cpu())\n",
    "    return preds"
   ]
  },
  {
   "cell_type": "markdown",
   "metadata": {},
   "source": [
    "Test it, skipping 10 .. MUCH faster.  12 seconds vs 2 minutes."
   ]
  },
  {
   "cell_type": "code",
   "execution_count": 22,
   "metadata": {},
   "outputs": [
    {
     "data": {
      "text/html": [
       "\n",
       "<style>\n",
       "    /* Turns off some styling */\n",
       "    progress {\n",
       "        /* gets rid of default border in Firefox and Opera. */\n",
       "        border: none;\n",
       "        /* Needs to be in here for Safari polyfill so background images work as expected. */\n",
       "        background-size: auto;\n",
       "    }\n",
       "    progress:not([value]), progress:not([value])::-webkit-progress-bar {\n",
       "        background: repeating-linear-gradient(45deg, #7e7e7e, #7e7e7e 10px, #5c5c5c 10px, #5c5c5c 20px);\n",
       "    }\n",
       "    .progress-bar-interrupted, .progress-bar-interrupted::-webkit-progress-bar {\n",
       "        background: #F44336;\n",
       "    }\n",
       "</style>\n"
      ],
      "text/plain": [
       "<IPython.core.display.HTML object>"
      ]
     },
     "metadata": {},
     "output_type": "display_data"
    },
    {
     "data": {
      "text/html": [
       "\n",
       "    <div>\n",
       "      <progress value='100' class='' max='100' style='width:300px; height:20px; vertical-align: middle;'></progress>\n",
       "      100.00% [100/100 00:13&lt;00:00]\n",
       "    </div>\n",
       "    "
      ],
      "text/plain": [
       "<IPython.core.display.HTML object>"
      ]
     },
     "metadata": {},
     "output_type": "display_data"
    },
    {
     "name": "stdout",
     "output_type": "stream",
     "text": [
      "CPU times: user 13.6 s, sys: 260 ms, total: 13.9 s\n",
      "Wall time: 13.9 s\n"
     ]
    }
   ],
   "source": [
    "%%time\n",
    "samples = sample(ddim_step, model, sz, 1000, 10)"
   ]
  },
  {
   "cell_type": "code",
   "execution_count": 23,
   "metadata": {},
   "outputs": [
    {
     "data": {
      "text/plain": [
       "(11.81622314453125, 0.03799160197377205)"
      ]
     },
     "execution_count": 23,
     "metadata": {},
     "output_type": "execute_result"
    }
   ],
   "source": [
    "s = (samples[-1]*2)#.clamp(-1,1)\n",
    "ie.fid(s),ie.kid(s)"
   ]
  },
  {
   "cell_type": "markdown",
   "metadata": {},
   "source": [
    "A bit worse then the huggingface ddim version. But then again this fluctuates a bit and we are using the simpler linear schedular. But since $\\eta$ is 1, I would have expected this to be the same or worse (due to the skip) then the DDPM we did before.\n",
    "\n",
    "NOTE ADDED:  The fluctuations in the FID score here are quite big, about 5 points or so. This is due to the smaller batch sizes i am using here (256) vs 2048 in the lesson videos.\n"
   ]
  },
  {
   "cell_type": "code",
   "execution_count": 24,
   "metadata": {},
   "outputs": [
    {
     "data": {
      "image/png": "[encoded data removed]",
      "text/plain": [
       "<Figure size 750x450 with 15 Axes>"
      ]
     },
     "metadata": {},
     "output_type": "display_data"
    }
   ],
   "source": [
    "s = (samples[-1]*2)#.clamp(-1,1)\n",
    "show_images(s[:15], imsize=1.5)"
   ]
  },
  {
   "cell_type": "markdown",
   "metadata": {},
   "source": [
    "But wait, if eta is 1 thats the same as DDPM isnt it?   Lets try eta = 0.0"
   ]
  },
  {
   "cell_type": "code",
   "execution_count": 25,
   "metadata": {},
   "outputs": [
    {
     "data": {
      "text/html": [
       "\n",
       "<style>\n",
       "    /* Turns off some styling */\n",
       "    progress {\n",
       "        /* gets rid of default border in Firefox and Opera. */\n",
       "        border: none;\n",
       "        /* Needs to be in here for Safari polyfill so background images work as expected. */\n",
       "        background-size: auto;\n",
       "    }\n",
       "    progress:not([value]), progress:not([value])::-webkit-progress-bar {\n",
       "        background: repeating-linear-gradient(45deg, #7e7e7e, #7e7e7e 10px, #5c5c5c 10px, #5c5c5c 20px);\n",
       "    }\n",
       "    .progress-bar-interrupted, .progress-bar-interrupted::-webkit-progress-bar {\n",
       "        background: #F44336;\n",
       "    }\n",
       "</style>\n"
      ],
      "text/plain": [
       "<IPython.core.display.HTML object>"
      ]
     },
     "metadata": {},
     "output_type": "display_data"
    },
    {
     "data": {
      "text/html": [
       "\n",
       "    <div>\n",
       "      <progress value='100' class='' max='100' style='width:300px; height:20px; vertical-align: middle;'></progress>\n",
       "      100.00% [100/100 00:13&lt;00:00]\n",
       "    </div>\n",
       "    "
      ],
      "text/plain": [
       "<IPython.core.display.HTML object>"
      ]
     },
     "metadata": {},
     "output_type": "display_data"
    },
    {
     "name": "stdout",
     "output_type": "stream",
     "text": [
      "CPU times: user 13.5 s, sys: 267 ms, total: 13.8 s\n",
      "Wall time: 13.8 s\n"
     ]
    }
   ],
   "source": [
    "%%time\n",
    "samples = sample(ddim_step, model, sz, 1000, 10, eta=0)"
   ]
  },
  {
   "cell_type": "code",
   "execution_count": 26,
   "metadata": {},
   "outputs": [
    {
     "data": {
      "text/plain": [
       "(14.42327880859375, 0.041572969406843185)"
      ]
     },
     "execution_count": 26,
     "metadata": {},
     "output_type": "execute_result"
    }
   ],
   "source": [
    "s = (samples[-1]*2)#.clamp(-1,1)\n",
    "ie.fid(s),ie.kid(s)"
   ]
  },
  {
   "cell_type": "markdown",
   "metadata": {},
   "source": [
    "Seems a bit worse ...  ?"
   ]
  }
 ],
 "metadata": {
  "kernelspec": {
   "display_name": "pdl_gpu",
   "language": "python",
   "name": "python3"
  },
  "language_info": {
   "codemirror_mode": {
    "name": "ipython",
    "version": 3
   },
   "file_extension": ".py",
   "mimetype": "text/x-python",
   "name": "python",
   "nbconvert_exporter": "python",
   "pygments_lexer": "ipython3",
   "version": "3.12.8"
  }
 },
 "nbformat": 4,
 "nbformat_minor": 2
}
