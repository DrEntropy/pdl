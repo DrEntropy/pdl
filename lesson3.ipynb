{
 "cells": [
  {
   "cell_type": "markdown",
   "metadata": {},
   "source": [
    "## Lesson 3 - Neural net foundations\n",
    "\n",
    "[FAQ, resources and official course updates](https://forums.fast.ai/t/faq-resources-and-official-course-updates/95292)\n",
    "\n",
    "Lecture summary:\n",
    "\n",
    "* Recommend to watch [Lessson 0](https://www.youtube.com/watch?v=gGxe2mN3kAg)  for \"how to fast.ai\".    Note that \"Lesson 0\" is quite old (2020 is old now!) and some of the last stuff at the end (the stuff about using AWS EC2) refers to documents that fast.ai doesn't provide anymore as far as I can tell. \n",
    "\n",
    "* Review of student work.\n",
    "\n",
    "* Introduction of Paperspace Gradient\n",
    "\n",
    "   - Note that I use this, it is not really the best anymore since Digital Ocean bought them though. [Downtime](https://status.paperspace.com/) is more frequent then i would like, and machine startup can be SLOW.\n",
    "   - Best feature is the ability to use the remote desktop.\n",
    "   - You can use jupyter lab through there.\n",
    "\n",
    "* Improving pet classifier by using other models- `timm` module has many models you can try. If you use timm, just use the model name as a string in `vision_learner`.\n",
    "\n",
    "* fast.ai stores categories in `dls.vocab` "
   ]
  },
  {
   "cell_type": "markdown",
   "metadata": {},
   "source": [
    "### Look at the model!"
   ]
  },
  {
   "cell_type": "code",
   "execution_count": 1,
   "metadata": {},
   "outputs": [
    {
     "data": {
      "text/plain": [
       "Sequential(\n",
       "  (0): Sequential(\n",
       "    (0): Conv2d(3, 64, kernel_size=(7, 7), stride=(2, 2), padding=(3, 3), bias=False)\n",
       "    (1): BatchNorm2d(64, eps=1e-05, momentum=0.1, affine=True, track_running_stats=True)\n",
       "    (2): ReLU(inplace=True)\n",
       "    (3): MaxPool2d(kernel_size=3, stride=2, padding=1, dilation=1, ceil_mode=False)\n",
       "    (4): Sequential(\n",
       "      (0): BasicBlock(\n",
       "        (conv1): Conv2d(64, 64, kernel_size=(3, 3), stride=(1, 1), padding=(1, 1), bias=False)\n",
       "        (bn1): BatchNorm2d(64, eps=1e-05, momentum=0.1, affine=True, track_running_stats=True)\n",
       "        (relu): ReLU(inplace=True)\n",
       "        (conv2): Conv2d(64, 64, kernel_size=(3, 3), stride=(1, 1), padding=(1, 1), bias=False)\n",
       "        (bn2): BatchNorm2d(64, eps=1e-05, momentum=0.1, affine=True, track_running_stats=True)\n",
       "      )\n",
       "      (1): BasicBlock(\n",
       "        (conv1): Conv2d(64, 64, kernel_size=(3, 3), stride=(1, 1), padding=(1, 1), bias=False)\n",
       "        (bn1): BatchNorm2d(64, eps=1e-05, momentum=0.1, affine=True, track_running_stats=True)\n",
       "        (relu): ReLU(inplace=True)\n",
       "        (conv2): Conv2d(64, 64, kernel_size=(3, 3), stride=(1, 1), padding=(1, 1), bias=False)\n",
       "        (bn2): BatchNorm2d(64, eps=1e-05, momentum=0.1, affine=True, track_running_stats=True)\n",
       "      )\n",
       "    )\n",
       "    (5): Sequential(\n",
       "      (0): BasicBlock(\n",
       "        (conv1): Conv2d(64, 128, kernel_size=(3, 3), stride=(2, 2), padding=(1, 1), bias=False)\n",
       "        (bn1): BatchNorm2d(128, eps=1e-05, momentum=0.1, affine=True, track_running_stats=True)\n",
       "        (relu): ReLU(inplace=True)\n",
       "        (conv2): Conv2d(128, 128, kernel_size=(3, 3), stride=(1, 1), padding=(1, 1), bias=False)\n",
       "        (bn2): BatchNorm2d(128, eps=1e-05, momentum=0.1, affine=True, track_running_stats=True)\n",
       "        (downsample): Sequential(\n",
       "          (0): Conv2d(64, 128, kernel_size=(1, 1), stride=(2, 2), bias=False)\n",
       "          (1): BatchNorm2d(128, eps=1e-05, momentum=0.1, affine=True, track_running_stats=True)\n",
       "        )\n",
       "      )\n",
       "      (1): BasicBlock(\n",
       "        (conv1): Conv2d(128, 128, kernel_size=(3, 3), stride=(1, 1), padding=(1, 1), bias=False)\n",
       "        (bn1): BatchNorm2d(128, eps=1e-05, momentum=0.1, affine=True, track_running_stats=True)\n",
       "        (relu): ReLU(inplace=True)\n",
       "        (conv2): Conv2d(128, 128, kernel_size=(3, 3), stride=(1, 1), padding=(1, 1), bias=False)\n",
       "        (bn2): BatchNorm2d(128, eps=1e-05, momentum=0.1, affine=True, track_running_stats=True)\n",
       "      )\n",
       "    )\n",
       "    (6): Sequential(\n",
       "      (0): BasicBlock(\n",
       "        (conv1): Conv2d(128, 256, kernel_size=(3, 3), stride=(2, 2), padding=(1, 1), bias=False)\n",
       "        (bn1): BatchNorm2d(256, eps=1e-05, momentum=0.1, affine=True, track_running_stats=True)\n",
       "        (relu): ReLU(inplace=True)\n",
       "        (conv2): Conv2d(256, 256, kernel_size=(3, 3), stride=(1, 1), padding=(1, 1), bias=False)\n",
       "        (bn2): BatchNorm2d(256, eps=1e-05, momentum=0.1, affine=True, track_running_stats=True)\n",
       "        (downsample): Sequential(\n",
       "          (0): Conv2d(128, 256, kernel_size=(1, 1), stride=(2, 2), bias=False)\n",
       "          (1): BatchNorm2d(256, eps=1e-05, momentum=0.1, affine=True, track_running_stats=True)\n",
       "        )\n",
       "      )\n",
       "      (1): BasicBlock(\n",
       "        (conv1): Conv2d(256, 256, kernel_size=(3, 3), stride=(1, 1), padding=(1, 1), bias=False)\n",
       "        (bn1): BatchNorm2d(256, eps=1e-05, momentum=0.1, affine=True, track_running_stats=True)\n",
       "        (relu): ReLU(inplace=True)\n",
       "        (conv2): Conv2d(256, 256, kernel_size=(3, 3), stride=(1, 1), padding=(1, 1), bias=False)\n",
       "        (bn2): BatchNorm2d(256, eps=1e-05, momentum=0.1, affine=True, track_running_stats=True)\n",
       "      )\n",
       "    )\n",
       "    (7): Sequential(\n",
       "      (0): BasicBlock(\n",
       "        (conv1): Conv2d(256, 512, kernel_size=(3, 3), stride=(2, 2), padding=(1, 1), bias=False)\n",
       "        (bn1): BatchNorm2d(512, eps=1e-05, momentum=0.1, affine=True, track_running_stats=True)\n",
       "        (relu): ReLU(inplace=True)\n",
       "        (conv2): Conv2d(512, 512, kernel_size=(3, 3), stride=(1, 1), padding=(1, 1), bias=False)\n",
       "        (bn2): BatchNorm2d(512, eps=1e-05, momentum=0.1, affine=True, track_running_stats=True)\n",
       "        (downsample): Sequential(\n",
       "          (0): Conv2d(256, 512, kernel_size=(1, 1), stride=(2, 2), bias=False)\n",
       "          (1): BatchNorm2d(512, eps=1e-05, momentum=0.1, affine=True, track_running_stats=True)\n",
       "        )\n",
       "      )\n",
       "      (1): BasicBlock(\n",
       "        (conv1): Conv2d(512, 512, kernel_size=(3, 3), stride=(1, 1), padding=(1, 1), bias=False)\n",
       "        (bn1): BatchNorm2d(512, eps=1e-05, momentum=0.1, affine=True, track_running_stats=True)\n",
       "        (relu): ReLU(inplace=True)\n",
       "        (conv2): Conv2d(512, 512, kernel_size=(3, 3), stride=(1, 1), padding=(1, 1), bias=False)\n",
       "        (bn2): BatchNorm2d(512, eps=1e-05, momentum=0.1, affine=True, track_running_stats=True)\n",
       "      )\n",
       "    )\n",
       "  )\n",
       "  (1): Sequential(\n",
       "    (0): AdaptiveConcatPool2d(\n",
       "      (ap): AdaptiveAvgPool2d(output_size=1)\n",
       "      (mp): AdaptiveMaxPool2d(output_size=1)\n",
       "    )\n",
       "    (1): fastai.layers.Flatten(full=False)\n",
       "    (2): BatchNorm1d(1024, eps=1e-05, momentum=0.1, affine=True, track_running_stats=True)\n",
       "    (3): Dropout(p=0.25, inplace=False)\n",
       "    (4): Linear(in_features=1024, out_features=512, bias=False)\n",
       "    (5): ReLU(inplace=True)\n",
       "    (6): BatchNorm1d(512, eps=1e-05, momentum=0.1, affine=True, track_running_stats=True)\n",
       "    (7): Dropout(p=0.5, inplace=False)\n",
       "    (8): Linear(in_features=512, out_features=2, bias=False)\n",
       "  )\n",
       ")"
      ]
     },
     "execution_count": 1,
     "metadata": {},
     "output_type": "execute_result"
    }
   ],
   "source": [
    "from fastai.vision.all import *\n",
    "\n",
    "# need the is cat function!\n",
    "def is_cat(x): return x[0].isupper()\n",
    "\n",
    "learn = load_learner('model.pkl')\n",
    "learn.model"
   ]
  },
  {
   "cell_type": "markdown",
   "metadata": {},
   "source": [
    "Layers upon layers ! *Deep* learning."
   ]
  },
  {
   "cell_type": "code",
   "execution_count": 2,
   "metadata": {},
   "outputs": [
    {
     "data": {
      "text/plain": [
       "BatchNorm2d(64, eps=1e-05, momentum=0.1, affine=True, track_running_stats=True)"
      ]
     },
     "execution_count": 2,
     "metadata": {},
     "output_type": "execute_result"
    }
   ],
   "source": [
    "l = learn.model.get_submodule('0.1')   # this is a BatchNorm2d layer\n",
    "l"
   ]
  },
  {
   "cell_type": "code",
   "execution_count": 3,
   "metadata": {},
   "outputs": [
    {
     "data": {
      "text/plain": [
       "[Parameter containing:\n",
       " tensor([ 2.3446e-01,  2.6621e-01, -5.1096e-08,  5.1795e-01,  3.4404e-09,\n",
       "          2.2224e-01,  4.2251e-01,  1.3153e-07,  2.5180e-01,  1.5152e-06,\n",
       "          3.1656e-01,  2.4947e-01,  3.7797e-01,  1.0862e-05,  2.7471e-01,\n",
       "          2.3831e-01,  2.4306e-01,  3.9593e-01,  4.7155e-01,  2.9069e-01,\n",
       "          2.7300e-01,  2.7844e-01,  2.9069e-01,  2.0527e-01,  2.6012e-01,\n",
       "          2.7987e-01,  2.9207e-01,  3.1485e-01,  3.8960e-01,  3.0314e-01,\n",
       "          2.6662e-01,  2.1045e-01,  2.8660e-01,  3.3190e-01,  4.2864e-01,\n",
       "          3.7165e-01,  7.4804e-08,  1.9039e-01,  1.4740e-08,  2.2395e-01,\n",
       "          1.8058e-01,  2.4862e-01,  2.7337e-01,  2.5842e-01,  2.9521e-01,\n",
       "          2.9983e-01,  2.2335e-01,  2.6272e-01,  2.2001e-08,  2.6464e-01,\n",
       "          2.1989e-01,  2.8322e-01,  3.2972e-01,  2.2612e-01,  3.6701e-01,\n",
       "          2.1193e-01,  2.3936e-01,  2.5123e-01,  5.2742e-01,  2.4820e-01,\n",
       "          2.9512e-01,  2.5859e-01,  4.8475e-01,  2.6641e-01],\n",
       "        requires_grad=True),\n",
       " Parameter containing:\n",
       " tensor([ 2.3162e-01,  2.5306e-01, -1.0543e-06, -6.6509e-01, -1.6571e-08,\n",
       "          1.6057e-01,  4.5493e-01, -4.3020e-07,  2.9978e-01, -8.0052e-06,\n",
       "          3.4966e-01,  3.1354e-01, -2.5021e-01, -3.4749e-05,  1.0840e-01,\n",
       "          2.1928e-01,  3.8262e-01, -5.2923e-01, -6.2612e-01,  5.7086e-01,\n",
       "          3.0027e-01,  5.8529e-01,  4.8185e-01,  3.2813e-01,  1.9664e-01,\n",
       "          1.9480e-01,  1.5265e-01,  8.4301e-02,  5.1421e-01,  1.3861e-02,\n",
       "          1.6650e-01,  3.3102e-01,  2.4641e-01,  4.4381e-01, -2.7856e-01,\n",
       "         -2.1811e-02, -2.4507e-07,  3.2094e-01, -4.9152e-08,  2.3846e-01,\n",
       "          2.3312e-01,  3.1441e-01,  4.2925e-01,  2.9256e-01,  2.6245e-01,\n",
       "          6.7514e-01,  4.2996e-01,  3.4621e-01, -8.6909e-08,  2.4790e-01,\n",
       "          3.0337e-01,  6.1603e-01,  3.9701e-01,  3.3093e-01, -4.1066e-01,\n",
       "          3.7872e-01,  1.7792e-01,  2.5802e-01, -4.4805e-01,  2.1384e-01,\n",
       "          5.6755e-01,  5.7207e-01, -4.0183e-01,  2.3411e-01],\n",
       "        requires_grad=True)]"
      ]
     },
     "execution_count": 3,
     "metadata": {},
     "output_type": "execute_result"
    }
   ],
   "source": [
    "list(l.parameters())  # parameters is a generator, so we convert it to a list"
   ]
  },
  {
   "cell_type": "markdown",
   "metadata": {},
   "source": [
    "### How does a neural network really work?\n",
    "[Video: 23.51](https://youtu.be/hBBOjCiFcuo?t=1431)\n",
    "\n",
    "[Kaggle notebook](https://www.kaggle.com/code/jhoward/how-does-a-neural-net-really-work)\n",
    "\n",
    "Aside: `@interact` is really cool!   [Documentation](https://ipywidgets.readthedocs.io/en/latest/examples/Using%20Interact.html)\n",
    "\n",
    "The notebook above shows how gradient descent can help fit a function (using torch autograd on a quadratic function) and also discusses the [universal approximation theorem](https://en.wikipedia.org/wiki/Universal_approximation_theorem).   "
   ]
  },
  {
   "cell_type": "code",
   "execution_count": 4,
   "metadata": {},
   "outputs": [],
   "source": [
    "from ipywidgets import interact\n",
    "\n",
    "def plot_function(f, title=None, min=-2.1, max=2.1, color='r', ylim=None):\n",
    "    x = torch.linspace(min,max, 100,dtype= torch.double)[:,None]\n",
    "    if ylim: plt.ylim(ylim)\n",
    "    plt.plot(x, f(x), color)\n",
    "    if title is not None: plt.title(title)"
   ]
  },
  {
   "cell_type": "code",
   "execution_count": 5,
   "metadata": {},
   "outputs": [],
   "source": [
    "import torch.nn.functional as F\n",
    "def rectified_linear(m,b,x): return F.relu(m*x+b)\n",
    "\n",
    "def triple_relu(m1,b1,m2,b2,m3,b3,x):\n",
    "\n",
    "\n",
    "    return rectified_linear(m3,b3,x)+rectified_linear(m2,b2,x) +  rectified_linear(m1,b1,x)"
   ]
  },
  {
   "cell_type": "code",
   "execution_count": 6,
   "metadata": {},
   "outputs": [
    {
     "data": {
      "application/vnd.jupyter.widget-view+json": {
       "model_id": "32e45946e8ab48ddb2d76676db601a60",
       "version_major": 2,
       "version_minor": 0
      },
      "text/plain": [
       "interactive(children=(FloatSlider(value=-1.5, description='m1', max=1.5, min=-4.5), FloatSlider(value=0.6, des…"
      ]
     },
     "metadata": {},
     "output_type": "display_data"
    }
   ],
   "source": [
    "@interact(m1=-1.5, b1=0.6, m2=1.5, b2=2.2,  m3 =0.4, b3 =0.6)\n",
    "def plot_triple_relu(m1, b1, m2, b2, m3, b3):\n",
    "    plot_function(partial(triple_relu, m1,b1,m2,b2,m3,b3), ylim=(-1,6))"
   ]
  },
  {
   "cell_type": "markdown",
   "metadata": {},
   "source": [
    "   ### Aside  - fit Relus to the data\n",
    "   \n",
    "   Note that we could also vary the coefficients in front of each term as well as add an offset, \n",
    "   which is needed to get full flexibility and is what a simple single hidden layer neural network would look like.\n"
   ]
  },
  {
   "cell_type": "code",
   "execution_count": 7,
   "metadata": {},
   "outputs": [
    {
     "data": {
      "text/plain": [
       "[Parameter containing:\n",
       " tensor([[ 0.3383],\n",
       "         [ 0.9632],\n",
       "         [-0.8969]], dtype=torch.float64, requires_grad=True),\n",
       " Parameter containing:\n",
       " tensor([-0.4480, -0.5512, -0.9496], dtype=torch.float64, requires_grad=True),\n",
       " Parameter containing:\n",
       " tensor([[ 0.3441, -0.0489,  0.2471]], dtype=torch.float64, requires_grad=True),\n",
       " Parameter containing:\n",
       " tensor([-0.2195], dtype=torch.float64, requires_grad=True)]"
      ]
     },
     "execution_count": 7,
     "metadata": {},
     "output_type": "execute_result"
    }
   ],
   "source": [
    "# simple single hidden layer network with 3 hidden units:\n",
    "class NN(nn.Module):\n",
    "    def __init__(self, hidden_units = 3):\n",
    "        super().__init__()\n",
    "        self.hidden = nn.Linear(1,hidden_units,dtype = torch.float64)\n",
    "        self.output = nn.Linear(hidden_units,1, dtype = torch.float64)\n",
    "    def forward(self, x):\n",
    "        return self.output(F.relu(self.hidden(x)))\n",
    "    \n",
    "model = NN(3)\n",
    "list(model.parameters())"
   ]
  },
  {
   "cell_type": "code",
   "execution_count": 8,
   "metadata": {},
   "outputs": [
    {
     "data": {
      "text/plain": [
       "[Parameter containing:\n",
       " tensor([[ 0.3383],\n",
       "         [ 0.9632],\n",
       "         [-0.8969]], dtype=torch.float64, requires_grad=True),\n",
       " Parameter containing:\n",
       " tensor([-0.4480, -0.5512, -0.9496], dtype=torch.float64, requires_grad=True)]"
      ]
     },
     "execution_count": 8,
     "metadata": {},
     "output_type": "execute_result"
    }
   ],
   "source": [
    "[model.hidden.weight, model.hidden.bias]"
   ]
  },
  {
   "cell_type": "markdown",
   "metadata": {},
   "source": [
    "The parameters of the hidden layer are the three `m` and `b` variables we had before, but we can combine the three units in any linear combination, which are the paramters of the output layer"
   ]
  },
  {
   "cell_type": "code",
   "execution_count": 9,
   "metadata": {},
   "outputs": [
    {
     "data": {
      "text/plain": [
       "[Parameter containing:\n",
       " tensor([[ 0.3441, -0.0489,  0.2471]], dtype=torch.float64, requires_grad=True),\n",
       " Parameter containing:\n",
       " tensor([-0.2195], dtype=torch.float64, requires_grad=True)]"
      ]
     },
     "execution_count": 9,
     "metadata": {},
     "output_type": "execute_result"
    }
   ],
   "source": [
    "[model.output.weight, model.output.bias]"
   ]
  },
  {
   "cell_type": "markdown",
   "metadata": {},
   "source": [
    "For fun lets fit this to that noisy quadratic"
   ]
  },
  {
   "cell_type": "code",
   "execution_count": 10,
   "metadata": {},
   "outputs": [
    {
     "data": {
      "image/png": "[encoded data removed]",
      "text/plain": [
       "<Figure size 640x480 with 1 Axes>"
      ]
     },
     "metadata": {},
     "output_type": "display_data"
    }
   ],
   "source": [
    "def noise(x, scale): return np.random.normal(scale=scale, size=x.shape)\n",
    "def add_noise(x, mult, add): return x * (1+noise(x,mult)) + noise(x,add)\n",
    "np.random.seed(42)\n",
    "\n",
    "def f(x): return 3*x**2 + 2*x +1 \n",
    "\n",
    "x = torch.linspace(-2, 2, steps=20, dtype=torch.double)[:,None]\n",
    "y = add_noise(f(x), 0.15, 1.5)\n",
    "\n",
    "plt.scatter(x, y)\n",
    "plot_function(f)"
   ]
  },
  {
   "cell_type": "code",
   "execution_count": 11,
   "metadata": {},
   "outputs": [],
   "source": [
    "def fit_model(model, nsteps = 40):\n",
    "    loss_fn = nn.MSELoss()\n",
    "    optimizer = torch.optim.SGD(model.parameters(), lr=0.01)\n",
    "    for i in range(nsteps): \n",
    "        loss = loss_fn(model(x), y)\n",
    "        optimizer.zero_grad()\n",
    "        loss.backward()\n",
    "        optimizer.step()\n",
    "        if i % 100 == 0: print(loss.item())\n"
   ]
  },
  {
   "cell_type": "code",
   "execution_count": 12,
   "metadata": {},
   "outputs": [
    {
     "name": "stdout",
     "output_type": "stream",
     "text": [
      "44.54583826222794\n",
      "9.269556349325468\n",
      "8.409867784086018\n",
      "7.995294816108613\n",
      "7.6868065219751145\n",
      "7.526534328059499\n"
     ]
    }
   ],
   "source": [
    "model= NN(3)\n",
    "fit_model(model, 600)"
   ]
  },
  {
   "cell_type": "code",
   "execution_count": 13,
   "metadata": {},
   "outputs": [
    {
     "data": {
      "image/png": "[encoded data removed]",
      "text/plain": [
       "<Figure size 640x480 with 1 Axes>"
      ]
     },
     "metadata": {},
     "output_type": "display_data"
    }
   ],
   "source": [
    "# plot the model's predictions\n",
    "plt.scatter(x, y)\n",
    "plot_function(f, color='g')\n",
    "def predict(x): return model(x).detach()\n",
    "plot_function(predict, \"nn prediction\")\n",
    " \n"
   ]
  },
  {
   "cell_type": "markdown",
   "metadata": {},
   "source": [
    "more units, fits data better (but doesn't know about quadratic model! )"
   ]
  },
  {
   "cell_type": "code",
   "execution_count": 14,
   "metadata": {},
   "outputs": [
    {
     "name": "stdout",
     "output_type": "stream",
     "text": [
      "35.32946705672785\n",
      "3.3408740523732545\n",
      "2.575691469926705\n",
      "2.25854837780333\n",
      "2.0584764841523944\n",
      "1.9008523358779539\n"
     ]
    },
    {
     "data": {
      "image/png": "[encoded data removed]",
      "text/plain": [
       "<Figure size 640x480 with 1 Axes>"
      ]
     },
     "metadata": {},
     "output_type": "display_data"
    }
   ],
   "source": [
    "model= NN(30)\n",
    "fit_model(model, 600)\n",
    "plt.scatter(x, y)\n",
    "plot_function(f, color='g')\n",
    "def predict(x): return model(x).detach()\n",
    "plot_function(predict, \"nn prediction\")"
   ]
  },
  {
   "cell_type": "markdown",
   "metadata": {},
   "source": [
    "### Regression in a spreadsheet\n",
    "\n",
    "* Jeremy spends some time explaining matrix multiplciation (around 1:00 in the video)\n",
    "\n",
    "* Then implements a machine learning model in a spreadsheet using the Kaggle [titanic](https://www.kaggle.com/c/titanic) data set.  For fun I am going to try to do the same thing using pandas."
   ]
  },
  {
   "cell_type": "code",
   "execution_count": 15,
   "metadata": {},
   "outputs": [],
   "source": [
    "import pandas as pd\n",
    "import numpy as np"
   ]
  },
  {
   "cell_type": "code",
   "execution_count": 16,
   "metadata": {},
   "outputs": [
    {
     "data": {
      "text/html": [
       "<div>\n",
       "<style scoped>\n",
       "    .dataframe tbody tr th:only-of-type {\n",
       "        vertical-align: middle;\n",
       "    }\n",
       "\n",
       "    .dataframe tbody tr th {\n",
       "        vertical-align: top;\n",
       "    }\n",
       "\n",
       "    .dataframe thead th {\n",
       "        text-align: right;\n",
       "    }\n",
       "</style>\n",
       "<table border=\"1\" class=\"dataframe\">\n",
       "  <thead>\n",
       "    <tr style=\"text-align: right;\">\n",
       "      <th></th>\n",
       "      <th>Survived</th>\n",
       "      <th>Age</th>\n",
       "      <th>SibSp</th>\n",
       "      <th>Parch</th>\n",
       "      <th>Fare</th>\n",
       "      <th>Sex_male</th>\n",
       "      <th>Embarked_C</th>\n",
       "      <th>Embarked_S</th>\n",
       "      <th>Pclass_1</th>\n",
       "      <th>Pclass_2</th>\n",
       "      <th>Age_Scaled</th>\n",
       "      <th>Log_Fair</th>\n",
       "    </tr>\n",
       "  </thead>\n",
       "  <tbody>\n",
       "    <tr>\n",
       "      <th>0</th>\n",
       "      <td>0</td>\n",
       "      <td>22.0</td>\n",
       "      <td>1</td>\n",
       "      <td>0</td>\n",
       "      <td>7.2500</td>\n",
       "      <td>True</td>\n",
       "      <td>False</td>\n",
       "      <td>True</td>\n",
       "      <td>False</td>\n",
       "      <td>False</td>\n",
       "      <td>0.2750</td>\n",
       "      <td>2.110213</td>\n",
       "    </tr>\n",
       "    <tr>\n",
       "      <th>1</th>\n",
       "      <td>1</td>\n",
       "      <td>38.0</td>\n",
       "      <td>1</td>\n",
       "      <td>0</td>\n",
       "      <td>71.2833</td>\n",
       "      <td>False</td>\n",
       "      <td>True</td>\n",
       "      <td>False</td>\n",
       "      <td>True</td>\n",
       "      <td>False</td>\n",
       "      <td>0.4750</td>\n",
       "      <td>4.280593</td>\n",
       "    </tr>\n",
       "    <tr>\n",
       "      <th>2</th>\n",
       "      <td>1</td>\n",
       "      <td>26.0</td>\n",
       "      <td>0</td>\n",
       "      <td>0</td>\n",
       "      <td>7.9250</td>\n",
       "      <td>False</td>\n",
       "      <td>False</td>\n",
       "      <td>True</td>\n",
       "      <td>False</td>\n",
       "      <td>False</td>\n",
       "      <td>0.3250</td>\n",
       "      <td>2.188856</td>\n",
       "    </tr>\n",
       "    <tr>\n",
       "      <th>3</th>\n",
       "      <td>1</td>\n",
       "      <td>35.0</td>\n",
       "      <td>1</td>\n",
       "      <td>0</td>\n",
       "      <td>53.1000</td>\n",
       "      <td>False</td>\n",
       "      <td>False</td>\n",
       "      <td>True</td>\n",
       "      <td>True</td>\n",
       "      <td>False</td>\n",
       "      <td>0.4375</td>\n",
       "      <td>3.990834</td>\n",
       "    </tr>\n",
       "    <tr>\n",
       "      <th>4</th>\n",
       "      <td>0</td>\n",
       "      <td>35.0</td>\n",
       "      <td>0</td>\n",
       "      <td>0</td>\n",
       "      <td>8.0500</td>\n",
       "      <td>True</td>\n",
       "      <td>False</td>\n",
       "      <td>True</td>\n",
       "      <td>False</td>\n",
       "      <td>False</td>\n",
       "      <td>0.4375</td>\n",
       "      <td>2.202765</td>\n",
       "    </tr>\n",
       "  </tbody>\n",
       "</table>\n",
       "</div>"
      ],
      "text/plain": [
       "   Survived   Age  SibSp  Parch     Fare  Sex_male  Embarked_C  Embarked_S  \\\n",
       "0         0  22.0      1      0   7.2500      True       False        True   \n",
       "1         1  38.0      1      0  71.2833     False        True       False   \n",
       "2         1  26.0      0      0   7.9250     False       False        True   \n",
       "3         1  35.0      1      0  53.1000     False       False        True   \n",
       "4         0  35.0      0      0   8.0500      True       False        True   \n",
       "\n",
       "   Pclass_1  Pclass_2  Age_Scaled  Log_Fair  \n",
       "0     False     False      0.2750  2.110213  \n",
       "1      True     False      0.4750  4.280593  \n",
       "2     False     False      0.3250  2.188856  \n",
       "3      True     False      0.4375  3.990834  \n",
       "4     False     False      0.4375  2.202765  "
      ]
     },
     "execution_count": 16,
     "metadata": {},
     "output_type": "execute_result"
    }
   ],
   "source": [
    "titanic = pd.read_csv('data/titanic/train.csv')\n",
    "titanic.drop(columns = ['PassengerId','Name','Ticket','Cabin'], inplace=True)\n",
    "titanic.dropna(inplace=True)\n",
    "# create dummies for the categorical variables C, S Male, and pclass\n",
    "titanic = pd.get_dummies(titanic, columns = ['Sex','Embarked','Pclass'])\n",
    "titanic.drop(columns = [\"Sex_female\", \"Embarked_Q\", \"Pclass_3\"], inplace=True)\n",
    "\n",
    "# Rescale the Age and Fare columns\n",
    "titanic['Age_Scaled'] = titanic['Age']/titanic['Age'].max()\n",
    "titanic['Log_Fair'] = np.log(titanic['Fare']+1) # code smell... \n",
    "titanic.head()"
   ]
  },
  {
   "cell_type": "code",
   "execution_count": 17,
   "metadata": {},
   "outputs": [],
   "source": [
    "# Extract the independent variables and the dependent variable\n",
    "X = titanic.drop(columns = ['Survived', 'Age','Fare']).to_numpy(dtype = np.float32)\n",
    "# append column of 1's for intercept\n",
    "X = np.hstack([X, np.ones((X.shape[0],1))])\n",
    "y = titanic['Survived'].to_numpy(dtype = np.float32)\n",
    "\n",
    "from sklearn.model_selection import train_test_split\n",
    "X_train, X_val, y_train, y_val = train_test_split(X, y, test_size=0.2, random_state=42)\n"
   ]
  },
  {
   "cell_type": "markdown",
   "metadata": {},
   "source": [
    "We will use compute log odds as `X@params` , so the prediction function looks like this:"
   ]
  },
  {
   "cell_type": "code",
   "execution_count": 18,
   "metadata": {},
   "outputs": [],
   "source": [
    "def predict(params, X):\n",
    "    return 1/(1+np.exp(-X @ params))"
   ]
  },
  {
   "cell_type": "code",
   "execution_count": 19,
   "metadata": {},
   "outputs": [
    {
     "data": {
      "text/plain": [
       "0.5314685314685315"
      ]
     },
     "execution_count": 19,
     "metadata": {},
     "output_type": "execute_result"
    }
   ],
   "source": [
    "# compute initial accuracy   \n",
    "params = np.random.randn(X.shape[1])\n",
    "np.mean((predict(params, X_val) > 0.5) == y_val)"
   ]
  },
  {
   "cell_type": "markdown",
   "metadata": {},
   "source": [
    "As a baseline, let's consider predicting only based on sex. If you are female, you survive, male you dont."
   ]
  },
  {
   "cell_type": "code",
   "execution_count": 20,
   "metadata": {},
   "outputs": [
    {
     "data": {
      "text/plain": [
       "Sex_male\n",
       "False    0.752896\n",
       "True     0.205298\n",
       "Name: Survived, dtype: float64"
      ]
     },
     "execution_count": 20,
     "metadata": {},
     "output_type": "execute_result"
    }
   ],
   "source": [
    "titanic.groupby('Sex_male')['Survived'].mean()"
   ]
  },
  {
   "cell_type": "code",
   "execution_count": 21,
   "metadata": {},
   "outputs": [
    {
     "data": {
      "text/plain": [
       "0.7794943820224719"
      ]
     },
     "execution_count": 21,
     "metadata": {},
     "output_type": "execute_result"
    }
   ],
   "source": [
    "np.mean(titanic['Survived']== (1-titanic['Sex_male']))"
   ]
  },
  {
   "cell_type": "markdown",
   "metadata": {},
   "source": [
    "So our model has to do better then this 'baseline'"
   ]
  },
  {
   "cell_type": "code",
   "execution_count": 22,
   "metadata": {},
   "outputs": [
    {
     "data": {
      "text/plain": [
       "476.6257298486119"
      ]
     },
     "execution_count": 22,
     "metadata": {},
     "output_type": "execute_result"
    }
   ],
   "source": [
    "\n",
    "def loss(params):\n",
    "    logits = X_train @ params\n",
    "    # logistic loss\n",
    "    return np.sum(np.log1p(np.exp((1-2*y_train)*logits)))\n",
    "\n",
    "loss(params)\n",
    " "
   ]
  },
  {
   "cell_type": "markdown",
   "metadata": {},
   "source": [
    "verify reduced formula"
   ]
  },
  {
   "cell_type": "code",
   "execution_count": 23,
   "metadata": {},
   "outputs": [
    {
     "data": {
      "text/plain": [
       "476.6257298486119"
      ]
     },
     "execution_count": 23,
     "metadata": {},
     "output_type": "execute_result"
    }
   ],
   "source": [
    "-np.sum(y_train*np.log(predict(params,X_train)) + (1-y_train)*np.log(1-predict(params,X_train)))"
   ]
  },
  {
   "cell_type": "markdown",
   "metadata": {},
   "source": [
    "Now we need to minimize this... let's use scipy.optimize which is I beleive is close to what excel does. This uses numerical gradients"
   ]
  },
  {
   "cell_type": "code",
   "execution_count": 24,
   "metadata": {},
   "outputs": [
    {
     "data": {
      "text/plain": [
       "245.61611824019434"
      ]
     },
     "execution_count": 24,
     "metadata": {},
     "output_type": "execute_result"
    }
   ],
   "source": [
    "from scipy.optimize import minimize\n",
    "res = minimize(loss, params, method='BFGS')\n",
    "loss(res.x)"
   ]
  },
  {
   "cell_type": "code",
   "execution_count": 25,
   "metadata": {},
   "outputs": [
    {
     "data": {
      "text/plain": [
       "0.8111888111888111"
      ]
     },
     "execution_count": 25,
     "metadata": {},
     "output_type": "execute_result"
    }
   ],
   "source": [
    "# compute accuracy \n",
    "np.mean((predict(res.x, X_val) > 0.5) == y_val)\n"
   ]
  },
  {
   "cell_type": "markdown",
   "metadata": {},
   "source": [
    "This is as good as logistic regression can do here, and it is better then baseline, but not by alot!  \n",
    "\n",
    "For a quick check, do a sklearn logistic regression. "
   ]
  },
  {
   "cell_type": "code",
   "execution_count": 26,
   "metadata": {},
   "outputs": [
    {
     "data": {
      "text/plain": [
       "0.8111888111888111"
      ]
     },
     "execution_count": 26,
     "metadata": {},
     "output_type": "execute_result"
    }
   ],
   "source": [
    "from sklearn.linear_model import LogisticRegression\n",
    "clf = LogisticRegression(fit_intercept=False, penalty=None).fit(X_train,y_train)\n",
    "clf.score(X_val, y_val)"
   ]
  },
  {
   "cell_type": "markdown",
   "metadata": {},
   "source": [
    "Ok now lets try to do the double linear regression with RELU's.  In the spreadsheet he only added the two linear models, but really they should ba added in arbitray linear combinations as well.\n",
    "\n",
    "The function below will create as many hidden units as columns in params "
   ]
  },
  {
   "cell_type": "code",
   "execution_count": 27,
   "metadata": {},
   "outputs": [
    {
     "data": {
      "text/plain": [
       "array([[ 0.32408397, -0.38508228],\n",
       "       [-0.676922  ,  0.61167629],\n",
       "       [ 1.03099952,  0.93128012],\n",
       "       [-0.83921752, -0.30921238],\n",
       "       [ 0.33126343,  0.97554513],\n",
       "       [-0.47917424, -0.18565898],\n",
       "       [-1.10633497, -1.19620662],\n",
       "       [ 0.81252582,  1.35624003],\n",
       "       [-0.07201012,  1.0035329 ],\n",
       "       [ 0.36163603, -0.64511975]])"
      ]
     },
     "execution_count": 27,
     "metadata": {},
     "output_type": "execute_result"
    }
   ],
   "source": [
    "# initial parameters for the hidden units:\n",
    "in_params = np.random.randn(X.shape[1],2)\n",
    "in_params"
   ]
  },
  {
   "cell_type": "code",
   "execution_count": 28,
   "metadata": {},
   "outputs": [],
   "source": [
    "# output parameters, in the spreadsheet these are fixed to 1,1 0\n",
    "output_params = np.random.randn(3)"
   ]
  },
  {
   "cell_type": "code",
   "execution_count": 29,
   "metadata": {},
   "outputs": [],
   "source": [
    "def nnet_model(in_params, output_params, X):\n",
    "    assert(in_params.shape[0] == X.shape[1])\n",
    "    assert(output_params.shape[0] == in_params.shape[1] + 1)  # one extra for biase\n",
    "    # first layer\n",
    "    hidden = X @ in_params\n",
    "    # relu\n",
    "    hidden = np.maximum(hidden, 0)\n",
    "    # output layer\n",
    "    output = hidden @ output_params[:-1]+output_params[-1]\n",
    "    return output"
   ]
  },
  {
   "cell_type": "code",
   "execution_count": 30,
   "metadata": {},
   "outputs": [],
   "source": [
    "# define loss and prediction functions (note i hardwired the X and y variables)\n",
    "def nn_loss(in_params, output_params):\n",
    "    logits = nnet_model(in_params, output_params, X_train)\n",
    "    return np.sum(np.log(1+np.exp((1-2*y_train)*logits)))\n",
    "\n",
    "def nn_predict(params, output_params, X):\n",
    "    return 1/(1+np.exp(-nnet_model(params, output_params, X)))"
   ]
  },
  {
   "cell_type": "markdown",
   "metadata": {},
   "source": [
    "Initial score on random"
   ]
  },
  {
   "cell_type": "code",
   "execution_count": 31,
   "metadata": {},
   "outputs": [
    {
     "data": {
      "text/plain": [
       "0.4405594405594406"
      ]
     },
     "execution_count": 31,
     "metadata": {},
     "output_type": "execute_result"
    }
   ],
   "source": [
    "np.mean((nn_predict(in_params,output_params, X_val) > 0.5) == y_val)"
   ]
  },
  {
   "cell_type": "markdown",
   "metadata": {},
   "source": [
    "scipy optimize requires all the parameters in a flatt row."
   ]
  },
  {
   "cell_type": "code",
   "execution_count": 32,
   "metadata": {},
   "outputs": [],
   "source": [
    "def unflatten_params(flat_params, num_hidden_units=2):\n",
    "    n_params = X.shape[1]*(num_hidden_units)\n",
    "    in_params = flat_params[:n_params].reshape(X.shape[1],num_hidden_units)\n",
    "    output_params = flat_params[n_params:]\n",
    "    return in_params, output_params"
   ]
  },
  {
   "cell_type": "code",
   "execution_count": 33,
   "metadata": {},
   "outputs": [],
   "source": [
    "def nn_loss_flat(flat_params, num_hidden_units = 2  ):\n",
    "    in_params, output_params = unflatten_params(flat_params, num_hidden_units)\n",
    "    return nn_loss(in_params, output_params)"
   ]
  },
  {
   "cell_type": "code",
   "execution_count": 34,
   "metadata": {},
   "outputs": [
    {
     "data": {
      "text/plain": [
       "2209.6758969233315"
      ]
     },
     "execution_count": 34,
     "metadata": {},
     "output_type": "execute_result"
    }
   ],
   "source": [
    "flat_params =np.concatenate([in_params.flatten(),output_params])\n",
    "nn_loss_flat(flat_params)"
   ]
  },
  {
   "cell_type": "code",
   "execution_count": 35,
   "metadata": {},
   "outputs": [
    {
     "data": {
      "text/plain": [
       "224.85007479784963"
      ]
     },
     "execution_count": 35,
     "metadata": {},
     "output_type": "execute_result"
    }
   ],
   "source": [
    "res_nn = minimize(nn_loss_flat, flat_params, method='BFGS')\n",
    "nn_loss_flat(res_nn.x)"
   ]
  },
  {
   "cell_type": "code",
   "execution_count": 36,
   "metadata": {},
   "outputs": [
    {
     "data": {
      "text/plain": [
       "0.8041958041958042"
      ]
     },
     "execution_count": 36,
     "metadata": {},
     "output_type": "execute_result"
    }
   ],
   "source": [
    "np.mean((nn_predict(*unflatten_params(res_nn.x), X_val) > 0.5) == y_val)"
   ]
  },
  {
   "cell_type": "markdown",
   "metadata": {},
   "source": [
    "No improvement on the validation set even though the loss is lower.  I think the best results for this data set still are from XGBoost. "
   ]
  },
  {
   "cell_type": "markdown",
   "metadata": {},
   "source": [
    "### Getting started with NLP\n",
    "\n",
    "Next section is NLP, and Jeremy recommends first going through the [\"Getting Started with NLP for absolute beginners\"](https://www.kaggle.com/code/jhoward/getting-started-with-nlp-for-absolute-beginners)"
   ]
  },
  {
   "cell_type": "markdown",
   "metadata": {},
   "source": [
    "### Notes on reading Chapter 4\n",
    "\n",
    "Part of chapter 4 (dealing with fitting the quadratic) was covered in the lesson, but I believe the second part is coming in a later lesson. However for future reference, it is important to note that PyTorch has moved on a bit since that chapter was written, for example the `data` attribute is not used any more (instead use `pytorch.no_grad`)\n"
   ]
  },
  {
   "cell_type": "markdown",
   "metadata": {},
   "source": []
  }
 ],
 "metadata": {
  "kernelspec": {
   "display_name": "pdl_p",
   "language": "python",
   "name": "python3"
  },
  "language_info": {
   "codemirror_mode": {
    "name": "ipython",
    "version": 3
   },
   "file_extension": ".py",
   "mimetype": "text/x-python",
   "name": "python",
   "nbconvert_exporter": "python",
   "pygments_lexer": "ipython3",
   "version": "3.12.3"
  }
 },
 "nbformat": 4,
 "nbformat_minor": 2
}
