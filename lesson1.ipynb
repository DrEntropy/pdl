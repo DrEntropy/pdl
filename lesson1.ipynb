{
 "cells": [
  {
   "cell_type": "markdown",
   "metadata": {},
   "source": [
    "## Lesson 1 - Getting Started\n",
    "\n",
    "This lesson was primarily about 'getting started' (hence the title).   Some highlights:\n",
    "\n",
    "* Pretrained models help make this 'fast', and allow you to train models without 'Big Data'\n",
    "\n",
    "* Use cloud computing (Kaggle, Colab, Paperspace) to do training. \n",
    "\n",
    "* The rest was a whirlwind tour / demo of fastai and deep learning in general.\n",
    "\n",
    "There was also a ['Is it a Bird?'](https://www.kaggle.com/code/jhoward/is-it-a-bird-creating-a-model-from-your-own-data) practice notebook, which is a good test that you have things working. It is designed for use on Kaggle.  I found that it *didn't* work, because the duck duck go api had changed since that notebook was written, but it is easily fixed (there is a comment on the kaggle notebook on how to do it). \n",
    "\n",
    "https://www.kaggle.com/code/jhoward/is-it-a-bird-creating-a-model-from-your-own-data/comments#2602163"
   ]
  }
 ],
 "metadata": {
  "kernelspec": {
   "display_name": "pdl_p",
   "language": "python",
   "name": "python3"
  },
  "language_info": {
   "codemirror_mode": {
    "name": "ipython",
    "version": 3
   },
   "file_extension": ".py",
   "mimetype": "text/x-python",
   "name": "python",
   "nbconvert_exporter": "python",
   "pygments_lexer": "ipython3",
   "version": "3.12.3"
  }
 },
 "nbformat": 4,
 "nbformat_minor": 2
}
