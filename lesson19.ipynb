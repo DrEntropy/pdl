{
 "cells": [
  {
   "cell_type": "markdown",
   "metadata": {},
   "source": [
    "# Lesson 19\n",
    "\n",
    "## Dropout\n",
    "\n",
    "* A student (Christopher Thomas) broke Jeremy's record using dropout layers. \n",
    "\n",
    "* Dropout is a regularization technique for neural networks that prevents overfitting, we have discussed before in part 1. \n",
    "\n",
    "* He added this to end of notebook 14 but he will be using Pytorch's implementation in the future. \n",
    "\n",
    "* See end of my Lesson18 notes for model with dropout."
   ]
  },
  {
   "cell_type": "code",
   "execution_count": null,
   "metadata": {
    "vscode": {
     "languageId": "plaintext"
    }
   },
   "outputs": [],
   "source": []
  },
  {
   "cell_type": "markdown",
   "metadata": {},
   "source": []
  }
 ],
 "metadata": {
  "language_info": {
   "name": "python"
  }
 },
 "nbformat": 4,
 "nbformat_minor": 2
}
