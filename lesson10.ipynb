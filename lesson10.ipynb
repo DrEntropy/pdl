{
 "cells": [
  {
   "cell_type": "markdown",
   "metadata": {},
   "source": [
    "# Lesson 10 \n"
   ]
  },
  {
   "cell_type": "markdown",
   "metadata": {},
   "source": [
    "First 15 minutes of the lecture are a showcase of student work and then a review / recap of how stable diffusion works. \n"
   ]
  },
  {
   "cell_type": "markdown",
   "metadata": {},
   "source": [
    "### Recent Papers \n",
    "Then he talks about two paper that came out recently (relative to the lecture)\n",
    "[Progressive Distillation for Fast Sampling of Diffusion Models](https://arxiv.org/abs/2202.00512) [paper walkthrough](https://www.youtube.com/watch?v=ZXuK6IRJlnk) .\n",
    "This takes use from 60 steps of denoising to just a few using 'distillation' of the model (which is a form of transfer learning).\n",
    "\n",
    "The teacher model is our fully trained stable diffusion model.  Then a student model (a unnet) is trained to skip over steps prgressively.  \n",
    "\n",
    "Another paper from same group shows how to use distillation for guided diffusion models:\n",
    "[On Distillation of Guided Diffusion Models](https://arxiv.org/abs/2210.03142)\n"
   ]
  },
  {
   "cell_type": "markdown",
   "metadata": {},
   "source": [
    "\n",
    " [Imagic: Text-Based Real Image Editing with Diffusion Models](https://arxiv.org/abs/2210.09276)\n",
    "\n",
    " The idea here is that you give the model an image and a text prompt.  It uses the text prompt to modify the image. For example, a picture of a dog and the prompt \"A dog sitting\" will create a picture of the same dog, sitting.\n",
    "\n",
    " The method to make this work is:\n",
    "\n",
    " 1- Train the embedding of the text prompt to be close to the the image.   This finds an embedding that is close the image but also close to the text prompt.\n",
    "\n",
    " 2 - Fine tune the whole model, using the new embedding, to the image. \n",
    " \n",
    " 3 - Use the model to generate the new image, interpolating between the original text embedding and the new one.. \n",
    "\n",
    "\n",
    "And, there is also this paper [Intruct Pix to Pix](https://arxiv.org/abs/2211.09800) that does the same kind of thing, except instead of providing a label of the final image, you provide *instructions*.   (e.g. \"Add fireworks to the sky\"). This is a specially trained model, using a dataset of images and instructions that were created from stable diffusion and GPT models.  "
   ]
  },
  {
   "cell_type": "markdown",
   "metadata": {},
   "source": [
    "## Stable Diffusion walkthrough\n",
    "\n",
    "(Around 33 minutes in)\n",
    "The next part of the video continues to walk throuhg `stable_diffusion.ipynb` on [github](https://github.com/fastai/diffusion-nbs)\n",
    "\n",
    "This digs into the pipeline more, seperately creating the text embeddings and using the models unet to generate the diffusion steps.  I am not goint to repeat it here.\n",
    "\n",
    "Some notes:\n",
    "\n",
    "- The Unet needs to know the 'timestep', that is the amount of noise that was added to the image. As Jeremy said last week this was soemthing he brushed over, but the model gets this information during training, so we have to pass it in during inference as well, following the same schedule.  \n",
    "\n",
    "- Also as discussed last week, the model does inference on both guided and unguided diffusion. [Classifier free guidance](https://arxiv.org/abs/2207.12598) These are interpolated (in the latent space) by the `guidance scale` parameter.   The videos so far have not gone into the details of how this works, but it is in the paper (and there are other videos that do go into it).  Perhaps it is in the extra video [Stable Diffusion Deep Dive](https://www.youtube.com/watch?v=844LY0vYQhc).  The basic idea is that simply denoising with text guidance is not enough,and so the trick that is used is to denoise with guidance and without guidance.  That take the difference and multiply it by some number >1 (`guidance scale`) to exaggerate the difference.   This is added to the unguided result 'extrapolate' the guidance.  This is done at each timestep :\n",
    "\n",
    "```python\n",
    "   for i, t in enumerate(tqdm(scheduler.timesteps)):\n",
    "    input = torch.cat([latents] * 2)\n",
    "    input = scheduler.scale_model_input(input, t)\n",
    "\n",
    "    # predict the noise residual\n",
    "    with torch.no_grad(): pred = unet(input, t, encoder_hidden_states=text_embeddings).sample\n",
    "\n",
    "    # perform guidance\n",
    "    pred_uncond, pred_text = pred.chunk(2)\n",
    "    pred = pred_uncond + guidance_scale * (pred_text - pred_uncond)\n",
    "\n",
    "    # compute the \"previous\" noisy sample\n",
    "    latents = scheduler.step(pred, t, latents).prev_sample\n",
    "```\n"
   ]
  },
  {
   "cell_type": "markdown",
   "metadata": {},
   "source": [
    "## Back to to foundations. . \n",
    "\n",
    "(at 53:30 https://www.youtube.com/watch?v=6StU6UtZEbU ) \n",
    "\n",
    "Notebooks for this part are at [Course22p2](https://github.com/fastai/course22p2)\n",
    "\n",
    "The rules are we are allowed to use:\n",
    "\n",
    "- Python\n",
    "- matplotlib\n",
    "- python standard library\n",
    "- Jupyter notebooks and nbdev \n",
    "\n",
    "However, we *are* allowed to use other libraries once we have implemented them (not necessarily completly).  \n",
    "For stuff not in a library, we will put them in 'minai' library.\n",
    "\n",
    "Another trick is we will create smaller versions of the models, and then once we got them working we will then use the available pre-trained models. \n",
    "\n",
    "In this notebook i will follow along but probably skip over some details and excursions."
   ]
  },
  {
   "cell_type": "markdown",
   "metadata": {},
   "source": [
    "### Numpy Arrays and Tensors\n",
    "\n"
   ]
  },
  {
   "cell_type": "code",
   "execution_count": 1,
   "metadata": {},
   "outputs": [],
   "source": [
    "from pathlib import Path\n",
    "import pickle, gzip, math, os, time, shutil, matplotlib as mpl, matplotlib.pyplot as plt"
   ]
  },
  {
   "cell_type": "markdown",
   "metadata": {},
   "source": [
    "Let's get some data to play with"
   ]
  },
  {
   "cell_type": "code",
   "execution_count": 2,
   "metadata": {},
   "outputs": [],
   "source": [
    "# Michael Nielsen's mnist data is getting a lot of use!\n",
    "# it is a gziped pickle file \n",
    "MNIST_URL='https://github.com/mnielsen/neural-networks-and-deep-learning/blob/master/data/mnist.pkl.gz?raw=true'\n",
    "path_data = Path('data')\n",
    "path_data.mkdir(exist_ok=True)\n",
    "path_gz = path_data/'mnist.pkl.gz'"
   ]
  },
  {
   "cell_type": "code",
   "execution_count": 3,
   "metadata": {},
   "outputs": [],
   "source": [
    "from urllib.request import urlretrieve\n",
    "if not path_gz.exists():\n",
    "    print('Downloading MNIST data...')\n",
    "    urlretrieve(MNIST_URL, path_gz)"
   ]
  },
  {
   "cell_type": "code",
   "execution_count": 4,
   "metadata": {},
   "outputs": [
    {
     "name": "stdout",
     "output_type": "stream",
     "text": [
      "total 17M\n",
      "-rw-r--r-- 1 ron ron  17M Sep 10 11:07 mnist.pkl.gz\n",
      "drwxr-xr-x 2 ron ron 4.0K Jun 21 10:00 titanic\n"
     ]
    }
   ],
   "source": [
    "!ls -lh data"
   ]
  },
  {
   "cell_type": "code",
   "execution_count": 39,
   "metadata": {},
   "outputs": [],
   "source": [
    "with gzip.open(path_gz, 'rb') as f:\n",
    "     ((x_train, y_train), (x_valid, y_valid), _) = pickle.load(f, encoding='latin-1')\n",
    "\n",
    "# the third tuple is the test set, which we dont need for now."
   ]
  },
  {
   "cell_type": "markdown",
   "metadata": {},
   "source": [
    "Note that i copied the above into minai/mnist_load.py for future use"
   ]
  },
  {
   "cell_type": "code",
   "execution_count": 13,
   "metadata": {},
   "outputs": [
    {
     "data": {
      "text/plain": [
       "[0.0,\n",
       " 0.0,\n",
       " 0.0,\n",
       " 0.19140625,\n",
       " 0.9296875,\n",
       " 0.98828125,\n",
       " 0.98828125,\n",
       " 0.98828125,\n",
       " 0.98828125,\n",
       " 0.98828125,\n",
       " 0.98828125,\n",
       " 0.98828125,\n",
       " 0.98828125,\n",
       " 0.98046875,\n",
       " 0.36328125,\n",
       " 0.3203125,\n",
       " 0.3203125,\n",
       " 0.21875,\n",
       " 0.15234375,\n",
       " 0.0]"
      ]
     },
     "execution_count": 13,
     "metadata": {},
     "output_type": "execute_result"
    }
   ],
   "source": [
    "# we aren't allowed to use numpy, so we will convert these to lists. (They are numpy currently)\n",
    "lst1 = list(x_train[0])\n",
    "len(lst1)\n",
    "vals = lst1[200:220]\n",
    "vals"
   ]
  },
  {
   "cell_type": "markdown",
   "metadata": {},
   "source": [
    "These are 28x28 images... lets turn them into an image.\n"
   ]
  },
  {
   "cell_type": "code",
   "execution_count": 7,
   "metadata": {},
   "outputs": [],
   "source": [
    "def chunks(x, sz):\n",
    "    for i in range(0, len(x), sz):\n",
    "      yield x[i:i+sz]  # this is a generator"
   ]
  },
  {
   "cell_type": "code",
   "execution_count": 8,
   "metadata": {},
   "outputs": [
    {
     "data": {
      "text/plain": [
       "<matplotlib.image.AxesImage at 0x7ff115a15400>"
      ]
     },
     "execution_count": 8,
     "metadata": {},
     "output_type": "execute_result"
    },
    {
     "data": {
      "image/png": "[encoded data removed]",
      "text/plain": [
       "<Figure size 640x480 with 1 Axes>"
      ]
     },
     "metadata": {},
     "output_type": "display_data"
    }
   ],
   "source": [
    "mpl.rcParams['image.cmap'] = 'gray'    \n",
    "plt.imshow(list(chunks(lst1, 28)))"
   ]
  },
  {
   "cell_type": "markdown",
   "metadata": {},
   "source": [
    "This is another way of doing it.  "
   ]
  },
  {
   "cell_type": "code",
   "execution_count": 25,
   "metadata": {},
   "outputs": [
    {
     "data": {
      "text/plain": [
       "<matplotlib.image.AxesImage at 0x7ff1af681430>"
      ]
     },
     "execution_count": 25,
     "metadata": {},
     "output_type": "execute_result"
    },
    {
     "data": {
      "image/png": "[encoded data removed]",
      "text/plain": [
       "<Figure size 640x480 with 1 Axes>"
      ]
     },
     "metadata": {},
     "output_type": "display_data"
    }
   ],
   "source": [
    "from itertools import islice\n",
    "it = iter(lst1)\n",
    "img = list(iter(lambda: list(islice(it, 28)), []))\n",
    "\n",
    "plt.imshow(img)"
   ]
  },
  {
   "cell_type": "markdown",
   "metadata": {},
   "source": [
    "### Matrix and tensor\n",
    "\n",
    "We want to be able to index a matrix like this `m[0,1]` rather then `m[0][1]`. SO lets make a class that does this."
   ]
  },
  {
   "cell_type": "code",
   "execution_count": 36,
   "metadata": {},
   "outputs": [
    {
     "data": {
      "text/plain": [
       "0.98828125"
      ]
     },
     "execution_count": 36,
     "metadata": {},
     "output_type": "execute_result"
    }
   ],
   "source": [
    "class Matrix:\n",
    "    def __init__(self, xs): \n",
    "        self.xs = xs \n",
    "    def __getitem__(self, idxs):\n",
    "        #print(f\"type of idxs: {type(idxs)}\")\n",
    "        return self.xs[idxs[0]][idxs[1]]\n",
    " \n",
    "test = Matrix(img)\n",
    "test[20,15]"
   ]
  },
  {
   "cell_type": "markdown",
   "metadata": {},
   "source": [
    "Now that we have implemented this one part, we can use this one part of pytorch."
   ]
  },
  {
   "cell_type": "code",
   "execution_count": 33,
   "metadata": {},
   "outputs": [],
   "source": [
    "import torch\n",
    "from torch import tensor"
   ]
  },
  {
   "cell_type": "code",
   "execution_count": 34,
   "metadata": {},
   "outputs": [],
   "source": [
    "tens = tensor(img)"
   ]
  },
  {
   "cell_type": "code",
   "execution_count": 35,
   "metadata": {},
   "outputs": [
    {
     "data": {
      "text/plain": [
       "tensor(0.9883)"
      ]
     },
     "execution_count": 35,
     "metadata": {},
     "output_type": "execute_result"
    }
   ],
   "source": [
    "tens[20,15]"
   ]
  },
  {
   "cell_type": "markdown",
   "metadata": {},
   "source": [
    "Ok we can convet our data into tensors"
   ]
  },
  {
   "cell_type": "code",
   "execution_count": 40,
   "metadata": {},
   "outputs": [
    {
     "data": {
      "text/plain": [
       "torch.Size([50000, 784])"
      ]
     },
     "execution_count": 40,
     "metadata": {},
     "output_type": "execute_result"
    }
   ],
   "source": [
    "x_train, y_train, x_valid, y_valid = map(tensor, (x_train, y_train, x_valid, y_valid))\n",
    "x_train.shape"
   ]
  },
  {
   "cell_type": "code",
   "execution_count": 41,
   "metadata": {},
   "outputs": [
    {
     "data": {
      "text/plain": [
       "torch.Size([50000, 28, 28])"
      ]
     },
     "execution_count": 41,
     "metadata": {},
     "output_type": "execute_result"
    }
   ],
   "source": [
    "# reshape the data to 2d\n",
    "imgs = x_train.reshape((-1, 28, 28))\n",
    "imgs.shape"
   ]
  },
  {
   "cell_type": "code",
   "execution_count": 43,
   "metadata": {},
   "outputs": [
    {
     "data": {
      "text/plain": [
       "(tensor(0), tensor(9))"
      ]
     },
     "execution_count": 43,
     "metadata": {},
     "output_type": "execute_result"
    }
   ],
   "source": [
    "min(y_train), max(y_train)"
   ]
  },
  {
   "cell_type": "markdown",
   "metadata": {},
   "source": [
    "Note these are scalar (rank 0) tensors, but this is fine they work the same most of the time as ordinary numbers."
   ]
  },
  {
   "cell_type": "markdown",
   "metadata": {},
   "source": [
    "#### Tensor programming history\n",
    "\n",
    "* Digression on [APL](https://tryapl.org/) .  Apparently Ken Iverson is the one that first introduced tensors into programming. He calls them arrays though. (as does numpy).\n",
    "\n",
    "* Replaces loops with elementwise operations (like numpy, pytorch, etc)\n",
    "\n",
    "* [Fast ai notes on apl](https://github.com/fastai/apl-study) and [forum](https://forums.fast.ai/c/array-programming/56)\n",
    "\n"
   ]
  },
  {
   "cell_type": "markdown",
   "metadata": {},
   "source": [
    "### Random numbers\n",
    "\n",
    "We are allowed to use python standard library rnd, but it is very instructive to build your own. "
   ]
  },
  {
   "cell_type": "code",
   "execution_count": 44,
   "metadata": {},
   "outputs": [
    {
     "data": {
      "text/plain": [
       "(4976, 20238, 499)"
      ]
     },
     "execution_count": 44,
     "metadata": {},
     "output_type": "execute_result"
    }
   ],
   "source": [
    "rnd_state = None\n",
    "def seed(a):\n",
    "    global rnd_state\n",
    "    a, x = divmod(a, 30268)\n",
    "    a, y = divmod(a, 30306)\n",
    "    a, z = divmod(a, 30322)\n",
    "    rnd_state = int(x)+1, int(y)+1, int(z)+1\n",
    "\n",
    "\n",
    "seed(457428938475)\n",
    "rnd_state"
   ]
  },
  {
   "cell_type": "code",
   "execution_count": 45,
   "metadata": {},
   "outputs": [
    {
     "data": {
      "text/plain": [
       "[0.7645251082582081,\n",
       " 0.7920889799553945,\n",
       " 0.06912886811267205,\n",
       " 0.9559050644103264,\n",
       " 0.840065633394744]"
      ]
     },
     "execution_count": 45,
     "metadata": {},
     "output_type": "execute_result"
    }
   ],
   "source": [
    "\n",
    "def rand():\n",
    "    global rnd_state\n",
    "    x, y, z = rnd_state\n",
    "    x = (171 * x) % 30269\n",
    "    y = (172 * y) % 30307\n",
    "    z = (170 * z) % 30323\n",
    "    rnd_state = x,y,z\n",
    "    return (x/30269 + y/30307 + z/30323) % 1.0\n",
    "     \n",
    "[rand() for _ in range(5)]"
   ]
  },
  {
   "cell_type": "markdown",
   "metadata": {},
   "source": [
    "Note issue with forking, the same seed will give the same random numbers."
   ]
  },
  {
   "cell_type": "code",
   "execution_count": 46,
   "metadata": {},
   "outputs": [
    {
     "name": "stdout",
     "output_type": "stream",
     "text": [
      "In parent: 0.15532781424845843\n",
      "In child: 0.15532781424845843"
     ]
    },
    {
     "name": "stderr",
     "output_type": "stream",
     "text": [
      "/tmp/ipykernel_850/2916155298.py:1: DeprecationWarning: This process (pid=850) is multi-threaded, use of fork() may lead to deadlocks in the child.\n",
      "  if os.fork(): print(f'In parent: {rand()}')\n"
     ]
    },
    {
     "name": "stdout",
     "output_type": "stream",
     "text": [
      "\n"
     ]
    }
   ],
   "source": [
    "if os.fork(): print(f'In parent: {rand()}')\n",
    "else:\n",
    "    print(f'In child: {rand()}')\n",
    "    os._exit(os.EX_OK)"
   ]
  },
  {
   "cell_type": "markdown",
   "metadata": {},
   "source": [
    "numpy has a 'spawn' method for dealing with just such situations. Pytorch doesn't seem to."
   ]
  },
  {
   "cell_type": "code",
   "execution_count": 47,
   "metadata": {},
   "outputs": [
    {
     "data": {
      "image/png": "[encoded data removed]",
      "text/plain": [
       "<Figure size 640x480 with 1 Axes>"
      ]
     },
     "metadata": {},
     "output_type": "display_data"
    }
   ],
   "source": [
    "\n",
    "plt.hist([rand() for _ in range(10000)]);"
   ]
  },
  {
   "cell_type": "markdown",
   "metadata": {},
   "source": [
    "Ok but we will use pytorch random numbers."
   ]
  },
  {
   "cell_type": "code",
   "execution_count": 49,
   "metadata": {},
   "outputs": [
    {
     "data": {
      "text/plain": [
       "tensor([[-0.1131, -0.5290, -0.1710],\n",
       "        [-0.8278,  0.5575, -1.3298],\n",
       "        [-1.2387, -0.4881, -0.9719]])"
      ]
     },
     "execution_count": 49,
     "metadata": {},
     "output_type": "execute_result"
    }
   ],
   "source": [
    "torch.randn(3,3)"
   ]
  },
  {
   "cell_type": "code",
   "execution_count": 62,
   "metadata": {},
   "outputs": [
    {
     "name": "stdout",
     "output_type": "stream",
     "text": [
      "In child: tensor([0.1161])In parent: tensor([0.2673])\n"
     ]
    },
    {
     "name": "stderr",
     "output_type": "stream",
     "text": [
      "/tmp/ipykernel_850/1674585013.py:4: DeprecationWarning: This process (pid=850) is multi-threaded, use of fork() may lead to deadlocks in the child.\n",
      "  if os.fork(): print(f'In parent: {torch.rand(1, generator=tg)}')\n"
     ]
    },
    {
     "name": "stdout",
     "output_type": "stream",
     "text": [
      "\n"
     ]
    }
   ],
   "source": [
    "tg = torch.Generator()\n",
    " \n",
    "\n",
    "if os.fork(): print(f'In parent: {torch.rand(1, generator=tg)}')\n",
    "else:\n",
    "    tg2 = torch.Generator()\n",
    "    tg2.manual_seed(tg.seed() + 1)\n",
    "    print(f'In child: {torch.rand(1, generator=tg2)}')\n",
    "    os._exit(os.EX_OK)"
   ]
  },
  {
   "cell_type": "markdown",
   "metadata": {},
   "source": [
    "Seems like it is enough to incrment the seed for each thread?"
   ]
  },
  {
   "cell_type": "code",
   "execution_count": 67,
   "metadata": {},
   "outputs": [
    {
     "data": {
      "text/plain": [
       "<matplotlib.collections.PathCollection at 0x7ff17c4432f0>"
      ]
     },
     "execution_count": 67,
     "metadata": {},
     "output_type": "execute_result"
    },
    {
     "data": {
      "image/png": "[encoded data removed]",
      "text/plain": [
       "<Figure size 640x480 with 1 Axes>"
      ]
     },
     "metadata": {},
     "output_type": "display_data"
    }
   ],
   "source": [
    "tg = torch.Generator()\n",
    "tg.manual_seed(42)\n",
    "tg2 = torch.Generator()\n",
    "tg2.manual_seed(43)\n",
    "\n",
    "x = torch.rand(1000, generator=tg)\n",
    "y = torch.rand(1000, generator=tg2)\n",
    "plt.scatter(x, y)"
   ]
  },
  {
   "cell_type": "code",
   "execution_count": null,
   "metadata": {},
   "outputs": [],
   "source": []
  }
 ],
 "metadata": {
  "kernelspec": {
   "display_name": "pdl_p",
   "language": "python",
   "name": "python3"
  },
  "language_info": {
   "codemirror_mode": {
    "name": "ipython",
    "version": 3
   },
   "file_extension": ".py",
   "mimetype": "text/x-python",
   "name": "python",
   "nbconvert_exporter": "python",
   "pygments_lexer": "ipython3",
   "version": "3.12.3"
  }
 },
 "nbformat": 4,
 "nbformat_minor": 2
}
