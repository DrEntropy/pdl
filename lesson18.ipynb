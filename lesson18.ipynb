{
 "cells": [
  {
   "cell_type": "markdown",
   "metadata": {},
   "source": [
    "# Lesson 18: \n",
    "\n",
    "## SGD \n",
    "\n",
    "* First part of lesson goes through SGD, Momentum, RMSProp, Adam and Adam with annealing using a spreadsheet (graddesc.xlsm). \n",
    "\n",
    "* Adam works so much better it is quite suprising to me. After one or two runs you have to lower the learnign rate to keep it from bouncing around.\n",
    "\n",
    "* Adam with annealing attempts to reduce the learning rate as the training progresses.\n",
    "    * Keeps track of lowest squared gradient.\n",
    "    *  If the current squared gradient is more than 1/2 the lowest, then it reduces the learning rate by a factor of 4.\n",
    "    * This was implemented in VBA code in the spreadsheet. Works quite well! \n",
    "\n",
    "\n",
    "## Accelerated SGD \n",
    "\n",
    "* Notebook #12, same as last time but now up to the Schedulers section"
   ]
  },
  {
   "cell_type": "markdown",
   "metadata": {},
   "source": [
    "## AT 24 minutes into the video"
   ]
  },
  {
   "cell_type": "markdown",
   "metadata": {},
   "source": []
  }
 ],
 "metadata": {
  "language_info": {
   "name": "python"
  }
 },
 "nbformat": 4,
 "nbformat_minor": 2
}
